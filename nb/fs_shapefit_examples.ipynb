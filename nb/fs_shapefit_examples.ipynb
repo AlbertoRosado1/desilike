{
 "cells": [
  {
   "cell_type": "markdown",
   "id": "493d42f7",
   "metadata": {},
   "source": [
    "# ShapeFit examples\n",
    "\n",
    "In this notebook we will show how to perform ShapeFit fits to data power spectrum, using Taylor expansion to speed up likelihood evaluation.\n",
    "Look first at notebooks basic_examples.ipynb to get a flavor of *desilike* mechanisms."
   ]
  },
  {
   "cell_type": "markdown",
   "id": "e9186005",
   "metadata": {},
   "source": [
    "## Fake power spectrum data"
   ]
  },
  {
   "cell_type": "code",
   "execution_count": 1,
   "id": "799663d3",
   "metadata": {},
   "outputs": [],
   "source": [
    "import numpy as np\n",
    "from matplotlib import pyplot as plt\n",
    "\n",
    "from cosmoprimo.fiducial import DESI\n",
    "\n",
    "cosmo = DESI()\n",
    "edges = np.linspace(0., 0.3, 31)\n",
    "k = (edges[:-1] + edges[1:]) / 2.\n",
    "nmodes = 4. * np.pi / 3. * (edges[1:]**3 - edges[:-1]**3)\n",
    "z = 1.\n",
    "fo = cosmo.get_fourier()\n",
    "pk = fo.pk_interpolator(of='delta_cb')(k, z=z)\n",
    "b = 2.\n",
    "f = fo.sigma8_z(z, of='theta_cb') / fo.sigma8_z(z, of='delta_cb')\n",
    "shotnoise = 1 / 5e-4\n",
    "volume = 1e10\n",
    "\n",
    "ells = (0, 2, 4)\n",
    "poles = []\n",
    "poles.append((b**2 + 2. / 3. * f * b + 1. / 5. * f**2) * pk + shotnoise)\n",
    "poles.append((4. / 3. * f * b + 4. / 7. * f**2) * pk)\n",
    "poles.append(8. / 35 * f**2 * pk)\n",
    "poles = np.array(poles, dtype='f8')\n",
    "\n",
    "from pypower import PowerSpectrumStatistics\n",
    "mean = PowerSpectrumStatistics(edges, k, poles, nmodes=nmodes, ells=ells, shotnoise_nonorm=shotnoise, statistic='multipole')\n",
    "cov = [2. * (2. * np.pi)**3 / (2 * ell + 1) / (volume * nmodes) * poles[0]**2 for ell in ells]\n",
    "cov = np.diag(np.concatenate(cov, axis=0))\n",
    "\n",
    "rng = np.random.RandomState(seed=42)\n",
    "mocks = []\n",
    "for i in range(1000):\n",
    "    tmp = mean.deepcopy()\n",
    "    tmp.power_nonorm.flat[...] = rng.multivariate_normal(mean.power_nonorm.ravel(), cov)\n",
    "    mocks.append(tmp)\n",
    "data, mocks = mocks[0], mocks[1:]"
   ]
  },
  {
   "cell_type": "markdown",
   "id": "e5a38146",
   "metadata": {},
   "source": [
    "## ShapeFit likelihood"
   ]
  },
  {
   "cell_type": "code",
   "execution_count": 2,
   "id": "0b92d9b7",
   "metadata": {},
   "outputs": [
    {
     "name": "stdout",
     "output_type": "stream",
     "text": [
      "[000000.13] [0/1] 01-31 16:09  ObservablesGaussianLikelihood INFO     Covariance matrix with 36 points built from 999 observations.\n",
      "[000000.13] [0/1] 01-31 16:09  ObservablesGaussianLikelihood INFO     ...resulting in Hartlap factor of 0.9629.\n"
     ]
    },
    {
     "name": "stderr",
     "output_type": "stream",
     "text": [
      "/home/adematti/Bureau/DESI/NERSC/cosmodesi/cosmoprimo/cosmoprimo/eisenstein_hu.py:23: UserWarning: EisensteinHuNoWiggleEngine cannot cope with massive neutrinos\n",
      "  warnings.warn('{} cannot cope with massive neutrinos'.format(self.__class__.__name__))\n"
     ]
    },
    {
     "name": "stdout",
     "output_type": "stream",
     "text": [
      "[000000.74] [0/1] 01-31 16:09  absl                      INFO     Unable to initialize backend 'tpu_driver': NOT_FOUND: Unable to find driver in registry given worker: \n",
      "[000000.75] [0/1] 01-31 16:09  absl                      INFO     Unable to initialize backend 'cuda': module 'jaxlib.xla_extension' has no attribute 'GpuAllocatorConfig'\n",
      "[000000.75] [0/1] 01-31 16:09  absl                      INFO     Unable to initialize backend 'rocm': module 'jaxlib.xla_extension' has no attribute 'GpuAllocatorConfig'\n",
      "[000000.75] [0/1] 01-31 16:09  absl                      INFO     Unable to initialize backend 'tpu': INVALID_ARGUMENT: TpuPlatform is not available.\n",
      "[000000.75] [0/1] 01-31 16:09  absl                      WARNING  No GPU/TPU found, falling back to CPU. (Set TF_CPP_MIN_LOG_LEVEL=0 and rerun for more info.)\n"
     ]
    },
    {
     "data": {
      "text/plain": [
       "DeviceArray(-17.28892311, dtype=float64)"
      ]
     },
     "execution_count": 2,
     "metadata": {},
     "output_type": "execute_result"
    }
   ],
   "source": [
    "from desilike.theories.galaxy_clustering import ShapeFitPowerSpectrumTemplate, KaiserTracerPowerSpectrumMultipoles\n",
    "from desilike.observables.galaxy_clustering import TracerPowerSpectrumMultipolesObservable\n",
    "from desilike.likelihoods import ObservablesGaussianLikelihood\n",
    "from desilike.parameter import Parameter, ParameterPrior\n",
    "from desilike import setup_logging\n",
    "\n",
    "\n",
    "template = ShapeFitPowerSpectrumTemplate(z=z, fiducial='DESI')\n",
    "template.params['dm'].update(ref={'limits': [-0.001, 0.001]})\n",
    "template.params['df'].update(ref={'limits': [0.99, 1.01]})\n",
    "for name in ['qpar', 'qper']: template.params[name].update(ref={'limits': [0.998, 1.002]})\n",
    "theory = KaiserTracerPowerSpectrumMultipoles(template=template)\n",
    "theory.params['b1'].update(value=2.)\n",
    "observable = TracerPowerSpectrumMultipolesObservable(data=data, covariance=mocks,\n",
    "                                                     klim={0: [0.02, 0.2], 2: [0.02, 0.2]}, # fit monopole and quadrupole, between 0.02 and 0.2 h/Mpc\n",
    "                                                     theory=theory)\n",
    "likelihood = ObservablesGaussianLikelihood(observables=[observable])\n",
    "\n",
    "\n",
    "\n",
    "# NOTE: if we wanted to fit xi instead:\n",
    "# theory = KaiserTracerCorrelationFunctionMultipoles(template=template)\n",
    "# observable = TracerCorrelationFunctionObservable(data=data, mocks=mocks,\n",
    "#                                                  slim={0: [40., 160], 2: [40., 160]}, # fit monopole and quadrupole, between 0.02 and 0.2 h/Mpc\n",
    "#                                                  theory=theory)\n",
    "# The rest would be the same\n",
    "\n",
    "setup_logging()\n",
    "likelihood()  # just to initialize"
   ]
  },
  {
   "cell_type": "code",
   "execution_count": 3,
   "id": "4b91c3f1",
   "metadata": {},
   "outputs": [
    {
     "name": "stdout",
     "output_type": "stream",
     "text": [
      "[000001.49] [0/1] 01-31 16:09  Emulator                  INFO     Varied parameters: ['qpar', 'qper', 'dm', 'df', 'b1', 'sn0'].\n",
      "[000001.50] [0/1] 01-31 16:09  Emulator                  INFO     Found varying ['f_sqrt_Ap', 'm', 'power'] and fixed ['Ap', 'n', 'k', 'ells'] outputs.\n",
      "[000001.50] [0/1] 01-31 16:09  Differentiation           INFO     Varied parameters: ['qpar', 'qper', 'dm', 'df', 'b1', 'sn0'].\n",
      "[000002.31] [0/1] 01-31 16:09  Differentiation           INFO     Using auto-differentiation for parameter qpar.\n",
      "[000002.37] [0/1] 01-31 16:09  Differentiation           INFO     Using auto-differentiation for parameter qper.\n",
      "[000002.42] [0/1] 01-31 16:09  Differentiation           INFO     Using finite-differentiation for parameter dm.\n",
      "[000002.52] [0/1] 01-31 16:09  Differentiation           INFO     Using auto-differentiation for parameter df.\n",
      "[000002.55] [0/1] 01-31 16:09  Differentiation           INFO     Using auto-differentiation for parameter b1.\n",
      "[000002.58] [0/1] 01-31 16:09  Differentiation           INFO     Using auto-differentiation for parameter sn0.\n",
      "[000002.58] [0/1] 01-31 16:09  Differentiation           INFO     dm grid is [-2.88675135e-05  0.00000000e+00  2.88675135e-05].\n",
      "[000005.80] [0/1] 01-31 16:09  Emulator                  INFO     Saving _tests/kaiser_emulator.npy.\n",
      "[000005.80] [0/1] 01-31 16:09  BaseConfig                INFO     Saving _tests/kaiser_emulator.yaml.\n"
     ]
    },
    {
     "data": {
      "image/png": "[encoded data removed]",
      "text/plain": [
       "<Figure size 600x600 with 2 Axes>"
      ]
     },
     "metadata": {},
     "output_type": "display_data"
    }
   ],
   "source": [
    "from desilike.emulators import Emulator, EmulatedCalculator, TaylorEmulatorEngine\n",
    "\n",
    "emulator = Emulator(theory, engine=TaylorEmulatorEngine(order={'*': 2, 'sn0': 1}))  # order 2 except for sn0 (order 1 is enough)\n",
    "emulator.set_samples()\n",
    "emulator.fit()\n",
    "emulator.plot(name='power')\n",
    "\n",
    "import os\n",
    "base_dir = '_tests'\n",
    "kaiser_emulator_fn = os.path.join(base_dir, 'kaiser_emulator.npy')\n",
    "emulator.save(kaiser_emulator_fn)"
   ]
  },
  {
   "cell_type": "markdown",
   "id": "e143710f",
   "metadata": {},
   "source": [
    "## Sampling\n",
    "Let us draw MC samples of the likelihood (actually posterior, including parameter priors)."
   ]
  },
  {
   "cell_type": "code",
   "execution_count": null,
   "id": "638b0521",
   "metadata": {
    "scrolled": true
   },
   "outputs": [
    {
     "name": "stdout",
     "output_type": "stream",
     "text": [
      "[000006.16] [0/1] 01-31 16:09  ObservablesGaussianLikelihood INFO     Covariance matrix with 36 points built from 999 observations.\n",
      "[000006.16] [0/1] 01-31 16:09  ObservablesGaussianLikelihood INFO     ...resulting in Hartlap factor of 0.9629.\n",
      "[000006.16] [0/1] 01-31 16:09  ZeusSampler               INFO     Varied parameters: ['qpar', 'qper', 'dm', 'df', 'b1', 'sn0'].\n",
      "[000006.56] [0/1] 01-31 16:09  root                      INFO     Initialising ensemble of 16 walkers...\n"
     ]
    }
   ],
   "source": [
    "from desilike.samplers import ZeusSampler\n",
    "\n",
    "# Let's just update the observable's theory, no need to redefine the observable & likelihood\n",
    "# (Internally the code will reinitialize all calculators that depend on observable)\n",
    "observable.init.update(theory=emulator.to_calculator())\n",
    "\n",
    "sampler = ZeusSampler(likelihood, save_fn='_tests/chain_fs_shapefit_*.npy', seed=42)\n",
    "sampler.run(check={'max_eigen_gr': 0.1})"
   ]
  },
  {
   "cell_type": "code",
   "execution_count": null,
   "id": "2c557c4a",
   "metadata": {},
   "outputs": [],
   "source": [
    "likelihood(**sampler.chains[0].choice(params=likelihood.varied_params))\n",
    "observable.plot()\n",
    "plt.show()"
   ]
  },
  {
   "cell_type": "code",
   "execution_count": null,
   "id": "db424a17",
   "metadata": {
    "scrolled": true
   },
   "outputs": [],
   "source": [
    "chain = sampler.chains[0].remove_burnin(0.5)\n",
    "print(chain.to_stats(tablefmt='pretty'))"
   ]
  },
  {
   "cell_type": "code",
   "execution_count": null,
   "id": "456bc552",
   "metadata": {},
   "outputs": [],
   "source": [
    "from desilike.samples import plotting\n",
    "plotting.plot_triangle(chain, markers={'qpar': 1., 'qper': 1., 'df': 1., 'dm': 0., 'b1': b, 'sn0': 0.})"
   ]
  }
 ],
 "metadata": {
  "kernelspec": {
   "display_name": "cosmodesi",
   "language": "python",
   "name": "cosmodesi"
  },
  "language_info": {
   "codemirror_mode": {
    "name": "ipython",
    "version": 3
   },
   "file_extension": ".py",
   "mimetype": "text/x-python",
   "name": "python",
   "nbconvert_exporter": "python",
   "pygments_lexer": "ipython3",
   "version": "3.9.13"
  }
 },
 "nbformat": 4,
 "nbformat_minor": 5
}
