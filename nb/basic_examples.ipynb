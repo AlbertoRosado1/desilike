{
 "cells": [
  {
   "cell_type": "markdown",
   "id": "974ae092",
   "metadata": {},
   "source": [
    "# Basic examples\n",
    "\n",
    "In this notebook we will show how to fit a model to data, in the **desilike** framework.\n",
    "You need to have installed **desilike** with:\n",
    "```\n",
    "python -m pip install git+https://github.com/cosmodesi/desilike#egg=desilike\n",
    "```\n",
    "For the analytic solver:\n",
    "```\n",
    "python -m pip install jax[cpu]\n",
    "```"
   ]
  },
  {
   "cell_type": "markdown",
   "id": "df7ccd4a",
   "metadata": {},
   "source": [
    "## Model\n",
    "Let us define a simple, affine model."
   ]
  },
  {
   "cell_type": "code",
   "execution_count": 1,
   "id": "3c10a17e",
   "metadata": {},
   "outputs": [],
   "source": [
    "from desilike.base import BaseCalculator\n",
    "\n",
    "\n",
    "class AffineModel(BaseCalculator):  # all calculators should inherit from BaseCalculator\n",
    "\n",
    "    # Model parameters; those can also be declared in a yaml file\n",
    "    _params = {'a': {'value': 0., 'prior': {'dist': 'norm', 'loc': 0., 'scale': 10.}},\n",
    "               'b': {'value': 0., 'prior': {'dist': 'norm', 'loc': 0., 'scale': 10.}}}\n",
    "    \n",
    "    def initialize(self, x=None):\n",
    "        # Actual, non-trivial initialization must happen in initialize(); this is to be able to do AffineModel(x=...)\n",
    "        # without doing any actual work\n",
    "        self.x = x\n",
    "    \n",
    "    def calculate(self, a=0., b=0.):\n",
    "        self.y = a * self.x + b  # simple, affine model\n",
    "    \n",
    "    # Not mandatory, this is to return something in particular after calculate (else this will just be the instance)\n",
    "    def get(self):\n",
    "        return self.y\n",
    "    \n",
    "    # This is only needed for emulation\n",
    "    def __getstate__(self):\n",
    "        return {'x': self.x, 'y': self.y}  # dictionary of Python base types and numpy arrays"
   ]
  },
  {
   "cell_type": "markdown",
   "id": "92c7a797",
   "metadata": {},
   "source": [
    "## Likelihood\n",
    "\n",
    "Let us define our Gaussian likelihood."
   ]
  },
  {
   "cell_type": "code",
   "execution_count": 2,
   "id": "f9fafc99",
   "metadata": {},
   "outputs": [],
   "source": [
    "import numpy as np\n",
    "\n",
    "from desilike.likelihoods import BaseGaussianLikelihood\n",
    "\n",
    "\n",
    "class Likelihood(BaseGaussianLikelihood):\n",
    "    \n",
    "    def initialize(self, theory=None):\n",
    "        # Let us generate some fake data\n",
    "        self.xdata = np.linspace(0., 1., 10)\n",
    "        mean = np.zeros_like(self.xdata)\n",
    "        self.covariance = np.eye(len(self.xdata))\n",
    "        rng = np.random.RandomState(seed=42)\n",
    "        y = rng.multivariate_normal(mean, self.covariance)\n",
    "        super(Likelihood, self).initialize(y, covariance=self.covariance)\n",
    "        # Requirements\n",
    "        # AffineModel will be instantied with AffineModel(x=self.xdata)\n",
    "        if theory is None:\n",
    "            theory = AffineModel()\n",
    "        self.theory = theory\n",
    "        self.theory.update(x=self.xdata)  # we set x-coordinates, they will be passed to AffineModel's initialize\n",
    "    \n",
    "    @property\n",
    "    def flattheory(self):\n",
    "        # Requirements (theory, requested in __init__) are accessed through .name\n",
    "        # The pipeline will make sure theory.run(a=..., b=...) has been called\n",
    "        return self.theory.y  # data - model"
   ]
  },
  {
   "cell_type": "markdown",
   "id": "4435cbfe",
   "metadata": {},
   "source": [
    "## Pipeline\n",
    "Let us initialize our likelihood pipeline, that connects the theory and the likelihood."
   ]
  },
  {
   "cell_type": "code",
   "execution_count": 3,
   "id": "b58e02ed",
   "metadata": {},
   "outputs": [
    {
     "data": {
      "text/plain": [
       "[AffineModel, Likelihood]"
      ]
     },
     "execution_count": 3,
     "metadata": {},
     "output_type": "execute_result"
    }
   ],
   "source": [
    "from desilike import setup_logging\n",
    "\n",
    "setup_logging()  # set up logging\n",
    "\n",
    "likelihood = Likelihood()\n",
    "likelihood.runtime_info.pipeline.calculators"
   ]
  },
  {
   "cell_type": "code",
   "execution_count": 4,
   "id": "31498008",
   "metadata": {},
   "outputs": [
    {
     "name": "stdout",
     "output_type": "stream",
     "text": [
      "Loglikelihood is -24.002\n",
      "[000000.06] [0/1] 12-25 17:29  BaseConfig                INFO     Saving _tests/params.yaml.\n",
      "a:\n",
      "  prior:\n",
      "    dist: norm\n",
      "    loc: 0.0\n",
      "    scale: 1.0\n",
      "  value: 0.0\n",
      "b:\n",
      "  prior:\n",
      "    dist: norm\n",
      "    loc: 0.0\n",
      "    scale: 1.0\n",
      "  value: 0.0\n",
      "\n",
      "ParameterCollection(['a', 'b'])\n",
      "[000000.09] [0/1] 12-25 17:29  BaseConfig                INFO     Saving _tests/params.yaml.\n",
      "'*':\n",
      "  prior:\n",
      "    dist: norm\n",
      "    loc: 0.0\n",
      "    scale: 10.0\n",
      "\n"
     ]
    }
   ],
   "source": [
    "# One can evaluate the model directly with:\n",
    "model = likelihood.theory\n",
    "y = model(a=1., b=2.)\n",
    "\n",
    "# One can also evaluate the likelihood directly\n",
    "loglikelihood = likelihood(a=1., b=2.)\n",
    "print('Loglikelihood is {:.3f}'.format(loglikelihood))\n",
    "# The model hasn't be rerun because it has just been run with these parameters\n",
    "assert id(likelihood.theory.y) == id(y)\n",
    "\n",
    "loglikelihood = likelihood(a=1., b=1.)\n",
    "# The model has been run for this new set of parameters\n",
    "assert id(likelihood.theory.y) != id(y)\n",
    "\n",
    "# Parameters of a given calculator, can be updated through\n",
    "model.params = {'a': {'value': 0., 'prior': {'dist': 'norm', 'loc': 0., 'scale': 2.}},\n",
    "                'b': {'value': 0., 'prior': {'dist': 'norm', 'loc': 0., 'scale': 2.}}}\n",
    "fn = '_tests/params.yaml'\n",
    "# Writing file with parameters fn\n",
    "from desilike.io import BaseConfig\n",
    "BaseConfig({'a': {'value': 0., 'prior': {'dist': 'norm', 'loc': 0., 'scale': 1.}},\n",
    "            'b': {'value': 0., 'prior': {'dist': 'norm', 'loc': 0., 'scale': 1.}}}).write(fn)\n",
    "with open(fn, 'r') as file: print(file.read())\n",
    "model.params = fn\n",
    "print(model.params)\n",
    "\n",
    "# One can update all the likelihood parameters as\n",
    "likelihood.all_params['b'].update(prior={'dist': 'norm', 'loc': 0., 'scale': 100.})\n",
    "assert likelihood.varied_params['b'].prior.scale == 100.\n",
    "# Or update e.g. the prior of parameters that start with 'a'\n",
    "likelihood.all_params = {'a*': {'prior': {'dist': 'norm', 'loc': 0., 'scale': 2.}}}\n",
    "assert all(param.prior.scale == 2. for param in likelihood.varied_params.select(name='a*'))\n",
    "# Or set params from file\n",
    "# Just writing file with parameters fn\n",
    "from desilike.io import BaseConfig\n",
    "BaseConfig({'*': {'prior': {'dist': 'norm', 'loc': 0., 'scale': 10.}}}).write(fn)\n",
    "with open(fn, 'r') as file: print(file.read())\n",
    "likelihood.all_params = fn\n",
    "assert all(param.prior.scale == 10. for param in likelihood.varied_params.select(name='a*'))"
   ]
  },
  {
   "cell_type": "code",
   "execution_count": 5,
   "id": "7169a5b1",
   "metadata": {},
   "outputs": [
    {
     "name": "stdout",
     "output_type": "stream",
     "text": [
      "Parameters to be varied are ['a', 'b'].\n",
      "Best-fit parameters are: [-0.06210334  0.47911278].\n"
     ]
    }
   ],
   "source": [
    "# If you wish to use your own profiler / sampler, that hasn't be wrapped into desilike (yet)\n",
    "# just use the likelihood above as a function, and parameters to be varied are:\n",
    "print('Parameters to be varied are {}.'.format(likelihood.varied_params.names()))\n",
    "# Some initial values can be obtained through [param.ref.sample() for param in likelihood.varied_params]\n",
    "# Prior for a given parameter is param.prior(x)\n",
    "\n",
    "# If you wish to take advantage of the least-square nature of the problem, e.g. with scipy.optimize.curve_fit\n",
    "from scipy import optimize\n",
    "names = likelihood.varied_params.names()\n",
    "\n",
    "def f(x, *params):\n",
    "    return model(**dict(zip(names, params)))\n",
    "\n",
    "xdata = np.ones_like(likelihood.flatdata)\n",
    "ydata = likelihood.flatdata\n",
    "p0 = [param.value for param in likelihood.varied_params]\n",
    "sigma = likelihood.covariance\n",
    "popt, pcov = optimize.curve_fit(f, xdata, ydata, p0=p0, sigma=sigma)[:2]\n",
    "print('Best-fit parameters are: {}.'.format(popt))"
   ]
  },
  {
   "cell_type": "markdown",
   "id": "464cfd76",
   "metadata": {},
   "source": [
    "## Fit\n",
    "Let us perform some likelihood (actually posterior, including parameter priors) profiling."
   ]
  },
  {
   "cell_type": "code",
   "execution_count": 6,
   "id": "4fc782b3",
   "metadata": {},
   "outputs": [
    {
     "name": "stdout",
     "output_type": "stream",
     "text": [
      "[000000.19] [0/1] 12-25 17:29  MinuitProfiler            INFO     Varied parameters: ['a', 'b'].\n"
     ]
    }
   ],
   "source": [
    "from desilike.profilers import MinuitProfiler\n",
    "\n",
    "# If iminuit is not installed, you can do:\n",
    "# from desilike import Installer\n",
    "# installer = Installer(user=True)  # to install in you user's directory\n",
    "# installer(MinuitProfiler)\n",
    "\n",
    "# Seed used to decide on starting point\n",
    "profiler = MinuitProfiler(likelihood, seed=42)\n",
    "# Find best fit, starting from 5 different starting points\n",
    "# NOTE: With MPI, these runs are performed in parallel\n",
    "profiler.maximize(niterations=5)"
   ]
  },
  {
   "cell_type": "code",
   "execution_count": 7,
   "id": "5b9af343",
   "metadata": {},
   "outputs": [
    {
     "name": "stdout",
     "output_type": "stream",
     "text": [
      "[-0.05917982 -0.05917978 -0.05917988 -0.0591798  -0.05917981]\n",
      "[000000.46] [0/1] 12-25 17:29  Profiles                  INFO     Saving /tmp/tmp0vy0n_di/tmp.npy.\n",
      "[000000.46] [0/1] 12-25 17:29  Profiles                  INFO     Loading /tmp/tmp0vy0n_di/tmp.npy.\n",
      "+-------------+--------+---------+-------+\n",
      "| chi2 = 4.70 | varied | bestfit | error |\n",
      "+-------------+--------+---------+-------+\n",
      "|      a      |  True  |  -0.06  | 0.98  |\n",
      "|      b      |  True  |  0.48   | 0.58  |\n",
      "+-------------+--------+---------+-------+\n"
     ]
    }
   ],
   "source": [
    "profiles = profiler.profiles\n",
    "# Quantities can be accessed through:\n",
    "print(profiles.bestfit['a'])\n",
    "\n",
    "# Save/load example\n",
    "import os\n",
    "import tempfile\n",
    "with tempfile.TemporaryDirectory() as tmp_dir:\n",
    "    fn = os.path.join(tmp_dir, 'tmp.npy')\n",
    "    profiles.save(fn)\n",
    "    from desilike.samples import Profiles\n",
    "    profiles = Profiles.load(fn)\n",
    "\n",
    "print(profiles.to_stats(tablefmt='pretty'))"
   ]
  },
  {
   "cell_type": "code",
   "execution_count": 8,
   "id": "f06eb94f",
   "metadata": {},
   "outputs": [
    {
     "data": {
      "text/plain": [
       "array([<AxesSubplot:ylabel='a'>, <AxesSubplot:ylabel='b'>], dtype=object)"
      ]
     },
     "execution_count": 8,
     "metadata": {},
     "output_type": "execute_result"
    },
    {
     "data": {
      "image/png": "[encoded data removed]",
      "text/plain": [
       "<Figure size 500x600 with 2 Axes>"
      ]
     },
     "metadata": {},
     "output_type": "display_data"
    }
   ],
   "source": [
    "from desilike.samples import plotting\n",
    "# Compare different best fits: all good, no convergence issues!\n",
    "plotting.plot_aligned_stacked(profiles, truths=[0., 0.])"
   ]
  },
  {
   "cell_type": "code",
   "execution_count": 9,
   "id": "eefe2a85",
   "metadata": {},
   "outputs": [
    {
     "name": "stdout",
     "output_type": "stream",
     "text": [
      "\\begin{tabular}{lllll}\n",
      "\\hline\n",
      " $\\chi^{2} = 4.70$   & varied   & bestfit   & error   & interval             \\\\\n",
      "\\hline\n",
      " a                   & True     & $-0.06$   & $0.98$  & ${}_{-0.98}^{+0.98}$ \\\\\n",
      " b                   & True     & $0.48$    & $0.58$  & ${}_{-0.58}^{+0.58}$ \\\\\n",
      "\\hline\n",
      "\\end{tabular}\n"
     ]
    }
   ],
   "source": [
    "# Compute \\Delta \\chi^{2} = cl^2 = 1 interval for the best best of above best fits\n",
    "profiler.interval(cl=1)\n",
    "# Interval can be accessed through\n",
    "profiler.profiles.interval['a']\n",
    "print(profiler.profiles.to_stats(tablefmt='latex_raw'))"
   ]
  },
  {
   "cell_type": "code",
   "execution_count": 10,
   "id": "14b6e453",
   "metadata": {},
   "outputs": [
    {
     "data": {
      "image/png": "[encoded data removed]",
      "text/plain": [
       "<Figure size 1200x400 with 2 Axes>"
      ]
     },
     "metadata": {},
     "output_type": "display_data"
    }
   ],
   "source": [
    "# Profile posterior up to cl = 3 sigmas\n",
    "profiler.profile(cl=3)\n",
    "# And plot, subtracting \\chi^{2} at best fit\n",
    "plotting.plot_profile(profiler.profiles, offsets=-2 * profiler.profiles.bestfit.logposterior.max())"
   ]
  },
  {
   "cell_type": "markdown",
   "id": "4ee90913",
   "metadata": {},
   "source": [
    "## Analytic solver\n",
    "If jax is installed (maybe we will provide an alterative relying on numpy only?), one can perform analytic marginalization over the parameters for which the model is linear."
   ]
  },
  {
   "cell_type": "code",
   "execution_count": 11,
   "id": "bf0fc2f0",
   "metadata": {},
   "outputs": [
    {
     "name": "stdout",
     "output_type": "stream",
     "text": [
      "[000002.00] [0/1] 12-25 17:29  absl                      INFO     Unable to initialize backend 'tpu_driver': NOT_FOUND: Unable to find driver in registry given worker: \n",
      "[000002.00] [0/1] 12-25 17:29  absl                      INFO     Unable to initialize backend 'cuda': module 'jaxlib.xla_extension' has no attribute 'GpuAllocatorConfig'\n",
      "[000002.00] [0/1] 12-25 17:29  absl                      INFO     Unable to initialize backend 'rocm': module 'jaxlib.xla_extension' has no attribute 'GpuAllocatorConfig'\n",
      "[000002.01] [0/1] 12-25 17:29  absl                      INFO     Unable to initialize backend 'tpu': INVALID_ARGUMENT: TpuPlatform is not available.\n",
      "[000002.01] [0/1] 12-25 17:29  absl                      WARNING  No GPU/TPU found, falling back to CPU. (Set TF_CPP_MIN_LOG_LEVEL=0 and rerun for more info.)\n",
      "[000002.01] [0/1] 12-25 17:29  MinuitProfiler            INFO     Varied parameters: ['a'].\n"
     ]
    }
   ],
   "source": [
    "from desilike.utils import jnp  # jax.numpy\n",
    "from matplotlib import pyplot as plt\n",
    "\n",
    "\n",
    "class AffineModelJax(AffineModel):  # all calculators should inherit from BaseCalculator (or another calculator)\n",
    "\n",
    "    def initialize(self, x=None):\n",
    "        self.x = jnp.array(x)\n",
    "\n",
    "\n",
    "class LikelihoodWithPlot(Likelihood):\n",
    "\n",
    "    # Just add a plotting routine\n",
    "    def plot(self):\n",
    "        ax = plt.gca()\n",
    "        ax.errorbar(self.xdata, self.flatdata, yerr=np.diag(self.covariance)**0.5, color='k', linestyle='none', marker='o', label='data')\n",
    "        ax.plot(self.xdata, self.flattheory, color='r', label='theory')\n",
    "        ax.grid()\n",
    "        ax.legend()\n",
    "        return ax\n",
    "\n",
    "    \n",
    "model = AffineModelJax()\n",
    "# Specify we want to analytical solve for parameter 'b'\n",
    "# 'derived' can be '.best' (fixed to best fit), '.marg' (analytic marginalization)\n",
    "# or '.auto', which will be '.best' in case of likelihood profiling, '.marg' in case of sampling\n",
    "model.params['b'].update(derived='.auto')\n",
    "likelihood = LikelihoodWithPlot(theory=model)\n",
    "\n",
    "profiler = MinuitProfiler(likelihood, seed=42)\n",
    "# Find best fit, starting from 5 different starting points\n",
    "# NOTE: With MPI, these runs are performed in parallel\n",
    "profiler.maximize(niterations=5)"
   ]
  },
  {
   "cell_type": "code",
   "execution_count": 12,
   "id": "d32c099d",
   "metadata": {},
   "outputs": [
    {
     "data": {
      "text/plain": [
       "array([<AxesSubplot:ylabel='a'>], dtype=object)"
      ]
     },
     "execution_count": 12,
     "metadata": {},
     "output_type": "execute_result"
    },
    {
     "data": {
      "image/png": "[encoded data removed]",
      "text/plain": [
       "<Figure size 500x300 with 1 Axes>"
      ]
     },
     "metadata": {},
     "output_type": "display_data"
    }
   ],
   "source": [
    "from desilike.samples import plotting\n",
    "# Compare different best fits: all good, no convergence issues!\n",
    "plotting.plot_aligned_stacked(profiler.profiles, truths=[0., 0.])"
   ]
  },
  {
   "cell_type": "code",
   "execution_count": 13,
   "id": "360b0c27",
   "metadata": {},
   "outputs": [
    {
     "data": {
      "image/png": "[encoded data removed]",
      "text/plain": [
       "<Figure size 640x480 with 1 Axes>"
      ]
     },
     "metadata": {},
     "output_type": "display_data"
    }
   ],
   "source": [
    "likelihood(**profiler.profiles.bestfit.choice(varied=True))\n",
    "likelihood.plot()\n",
    "plt.show()"
   ]
  },
  {
   "cell_type": "markdown",
   "id": "5ff6cbdc",
   "metadata": {},
   "source": [
    "## Sample\n",
    "Let us draw MC samples of the likelihood (actually posterior, including parameter priors)."
   ]
  },
  {
   "cell_type": "code",
   "execution_count": 14,
   "id": "07f5806e",
   "metadata": {},
   "outputs": [
    {
     "name": "stdout",
     "output_type": "stream",
     "text": [
      "[000003.02] [0/1] 12-25 17:29  ZeusSampler               INFO     Varied parameters: ['a', 'b'].\n",
      "[000003.13] [0/1] 12-25 17:29  root                      INFO     Initialising ensemble of 10 walkers...\n",
      "[000014.61] [0/1] 12-25 17:29  ZeusSampler               INFO     Diagnostics:\n",
      "[000014.61] [0/1] 12-25 17:29  ZeusSampler               INFO     - max eigen Gelman-Rubin - 1 is -0.000636; < 0.03.\n",
      "[000014.62] [0/1] 12-25 17:29  ZeusSampler               INFO     - max diag Gelman-Rubin - 1 is -0.000645.\n",
      "[000014.63] [0/1] 12-25 17:29  ZeusSampler               INFO     - max diag Gelman-Rubin - 1 at 1.0 sigmas is 0.0819.\n",
      "[000014.63] [0/1] 12-25 17:29  ZeusSampler               INFO     - max Geweke is 0.324.\n",
      "[000014.63] [0/1] 12-25 17:29  ZeusSampler               INFO     - Geweke p-value is 0.71.\n",
      "[000014.64] [0/1] 12-25 17:29  ZeusSampler               INFO     - (150 iterations / integrated autocorrelation time) (reliable) is 55.6.\n",
      "[000014.65] [0/1] 12-25 17:29  root                      INFO     Initialising ensemble of 10 walkers...\n"
     ]
    },
    {
     "name": "stderr",
     "output_type": "stream",
     "text": [
      "/home/adematti/anaconda3/envs/cosmodesi/lib/python3.9/site-packages/scipy/stats/stats.py:1541: UserWarning: kurtosistest only valid for n>=20 ... continuing anyway, n=8\n",
      "  warnings.warn(\"kurtosistest only valid for n>=20 ... continuing \"\n"
     ]
    },
    {
     "name": "stdout",
     "output_type": "stream",
     "text": [
      "[000025.95] [0/1] 12-25 17:30  ZeusSampler               INFO     Diagnostics:\n",
      "[000025.96] [0/1] 12-25 17:30  ZeusSampler               INFO     - max eigen Gelman-Rubin - 1 is 0.0293; < 0.03.\n",
      "[000025.96] [0/1] 12-25 17:30  ZeusSampler               INFO     - max diag Gelman-Rubin - 1 is 0.00488.\n",
      "[000025.97] [0/1] 12-25 17:30  ZeusSampler               INFO     - max diag Gelman-Rubin - 1 at 1.0 sigmas is 0.0194.\n",
      "[000025.98] [0/1] 12-25 17:30  ZeusSampler               INFO     - max Geweke is 0.191.\n",
      "[000025.98] [0/1] 12-25 17:30  ZeusSampler               INFO     - Geweke p-value is 0.332.\n",
      "[000025.98] [0/1] 12-25 17:30  ZeusSampler               INFO     - (300 iterations / integrated autocorrelation time) (reliable) is 110.\n",
      "[000025.99] [0/1] 12-25 17:30  ZeusSampler               INFO     - max variation of integrated autocorrelation time is 0.0294.\n"
     ]
    }
   ],
   "source": [
    "from desilike.samplers import ZeusSampler\n",
    "\n",
    "# If zeus-mcm is not installed, you can do:\n",
    "# from desilike import Installer\n",
    "# installer = Installer(user=True)  # to install in you user's directory\n",
    "# installer(ZeusSampler)\n",
    "\n",
    "likelihood = LikelihoodWithPlot()\n",
    "\n",
    "# By default are running 1 chain\n",
    "# We can as for me, e.g. chains=2\n",
    "# MPI processes will be evenly split across all the chains\n",
    "sampler = ZeusSampler(likelihood, seed=42, nwalkers=10)\n",
    "# We run samples until convergence, considered reached when Gelman-Rubin (computed over 4 chain subsamples) stabilizes < 0.03; \n",
    "sampler.run(check={'max_eigen_gr': 0.03})"
   ]
  },
  {
   "cell_type": "code",
   "execution_count": 15,
   "id": "a07b3aee",
   "metadata": {},
   "outputs": [
    {
     "name": "stdout",
     "output_type": "stream",
     "text": [
      "[000026.00] [0/1] 12-25 17:30  root                      INFO     Initialising ensemble of 10 walkers...\n"
     ]
    }
   ],
   "source": [
    "# If we want more samples, we can repeat run() calls, e.g.:\n",
    "sampler.run(max_iterations=200)"
   ]
  },
  {
   "cell_type": "code",
   "execution_count": 16,
   "id": "151eb7f8",
   "metadata": {},
   "outputs": [
    {
     "name": "stdout",
     "output_type": "stream",
     "text": [
      "[000033.48] [0/1] 12-25 17:30  Chain                     INFO     Saving /tmp/tmp5fxfn_x5/tmp.npy.\n",
      "[000033.48] [0/1] 12-25 17:30  Chain                     INFO     Loading /tmp/tmp5fxfn_x5/tmp.npy.\n",
      "+---+--------+-------+--------+------+-----------------+-----------------+\n",
      "|   | argmax | mean  | median | std  | quantile:1sigma | interval:1sigma |\n",
      "+---+--------+-------+--------+------+-----------------+-----------------+\n",
      "| a | -0.04  | -0.01 | -0.01  | 0.96 |   -0.96/+0.95   |   -0.94/+0.96   |\n",
      "| b |  0.47  | 0.44  |  0.45  | 0.57 |   -0.58/+0.57   |   -0.56/+0.58   |\n",
      "+---+--------+-------+--------+------+-----------------+-----------------+\n"
     ]
    }
   ],
   "source": [
    "# Let's remove burnin and get basic stats\n",
    "chain = sampler.chains[0].remove_burnin(0.5)\n",
    "\n",
    "# Save/load example\n",
    "import tempfile\n",
    "with tempfile.TemporaryDirectory() as tmp_dir:\n",
    "    fn = os.path.join(tmp_dir, 'tmp.npy')\n",
    "    chain.save(fn)\n",
    "    from desilike.samples import Chain\n",
    "    chain = Chain.load(fn)\n",
    "\n",
    "print(chain.to_stats(tablefmt='pretty'))"
   ]
  },
  {
   "cell_type": "code",
   "execution_count": 17,
   "id": "1fba7540",
   "metadata": {},
   "outputs": [
    {
     "name": "stdout",
     "output_type": "stream",
     "text": [
      "[000033.53] [0/1] 12-25 17:30  numexpr.utils             INFO     NumExpr defaulting to 8 threads.\n",
      "4000 (400, 10)\n",
      "Removed no burn in\n"
     ]
    },
    {
     "data": {
      "image/png": "[encoded data removed]",
      "text/plain": [
       "<Figure size 400x400 with 3 Axes>"
      ]
     },
     "metadata": {},
     "output_type": "display_data"
    }
   ],
   "source": [
    "# This actually uses GetDist\n",
    "# chain.to_getdist() will return a getdist.MCSamples object to play further\n",
    "plotting.plot_triangle(chain)"
   ]
  },
  {
   "cell_type": "markdown",
   "id": "40ab8085",
   "metadata": {},
   "source": [
    "## Emulate\n",
    "If our model took years to run, we would likely want to emulate it. Let us try this on this simple model."
   ]
  },
  {
   "cell_type": "code",
   "execution_count": 18,
   "id": "ef859831",
   "metadata": {},
   "outputs": [
    {
     "name": "stdout",
     "output_type": "stream",
     "text": [
      "False\n",
      "[000034.03] [0/1] 12-25 17:30  Emulator                  INFO     Varied parameters: ['a', 'b'].\n",
      "[000034.03] [0/1] 12-25 17:30  Emulator                  INFO     Found varying ['y'] and fixed ['x'] outputs.\n",
      "[000034.17] [0/1] 12-25 17:30  Emulator                  INFO     Diagnostics:\n",
      "[000034.26] [0/1] 12-25 17:30  Emulator                  INFO     - mse of y is 0 (square root = 0).\n"
     ]
    },
    {
     "data": {
      "text/plain": [
       "[array([<AxesSubplot:ylabel='y'>, <AxesSubplot:ylabel='$\\\\Delta$ y'>],\n",
       "       dtype=object)]"
      ]
     },
     "execution_count": 18,
     "metadata": {},
     "output_type": "execute_result"
    },
    {
     "data": {
      "image/png": "[encoded data removed]",
      "text/plain": [
       "<Figure size 600x600 with 2 Axes>"
      ]
     },
     "metadata": {},
     "output_type": "display_data"
    }
   ],
   "source": [
    "from desilike.emulators import Emulator, EmulatedCalculator, TaylorEmulatorEngine\n",
    "\n",
    "# Let's take the calculator we want to emulate, i.e. theory (AffineModel)\n",
    "# Let us perform a Taylor expansion of order 1 for all attributes\n",
    "# Attributes of AffineModel instance, obtained through theory.__getstate__()\n",
    "# are automatically split between varied and fixed categories\n",
    "\n",
    "likelihood = LikelihoodWithPlot()\n",
    "likelihood()\n",
    "print(likelihood.theory.params['b'].derived)\n",
    "\n",
    "emulator = Emulator(likelihood.theory, engine=TaylorEmulatorEngine(order=1))\n",
    "emulator.set_samples()\n",
    "emulator.fit()\n",
    "emulator.check()  # since model is linear, non-zero mse is just due to numerical noise\n",
    "emulator.plot()  # plot some theory.y samples, and the difference emulator - model at the bottom; all good!"
   ]
  },
  {
   "cell_type": "code",
   "execution_count": 19,
   "id": "a23a25b0",
   "metadata": {},
   "outputs": [
    {
     "name": "stdout",
     "output_type": "stream",
     "text": [
      "[000034.40] [0/1] 12-25 17:30  Emulator                  INFO     Saving _tests/emulator.npy.\n",
      "[000034.40] [0/1] 12-25 17:30  BaseConfig                INFO     Saving _tests/emulator.yaml.\n"
     ]
    }
   ],
   "source": [
    "# Now dump the emulator to disk\n",
    "base_dir = '_tests'\n",
    "fn = os.path.join(base_dir, 'emulator.npy')\n",
    "emulator.save(fn)"
   ]
  },
  {
   "cell_type": "code",
   "execution_count": 20,
   "id": "c29866ff",
   "metadata": {},
   "outputs": [
    {
     "name": "stdout",
     "output_type": "stream",
     "text": [
      "class: AffineModel\n",
      "info: {}\n",
      "params:\n",
      "  a:\n",
      "    derived: false\n",
      "    fixed: false\n",
      "    latex: None\n",
      "    namespace: ''\n",
      "    ndim: 0\n",
      "    prior:\n",
      "      dist: norm\n",
      "      limits: [-.inf, .inf]\n",
      "      loc: 0.0\n",
      "      scale: 10.0\n",
      "    proposal: 10.0\n",
      "    ref:\n",
      "      dist: norm\n",
      "      limits: [-.inf, .inf]\n",
      "      loc: 0.0\n",
      "      scale: 10.0\n",
      "    value: 0.0\n",
      "  b:\n",
      "    derived: false\n",
      "    fixed: false\n",
      "    latex: None\n",
      "    namespace: ''\n",
      "    ndim: 0\n",
      "    prior:\n",
      "      dist: norm\n",
      "      limits: [-.inf, .inf]\n",
      "      loc: 0.0\n",
      "      scale: 10.0\n",
      "    proposal: 10.0\n",
      "    ref:\n",
      "      dist: norm\n",
      "      limits: [-.inf, .inf]\n",
      "      loc: 0.0\n",
      "      scale: 10.0\n",
      "    value: 0.0\n",
      "\n"
     ]
    }
   ],
   "source": [
    "# A yaml file is exported, which helps recollect the parameters of the emulator\n",
    "# The parameters that have been varied should be specified when using this emulator,\n",
    "# other parameters (fixed) can be removed if necessary\n",
    "with open(fn.replace('.npy', '.yaml')) as file:\n",
    "    print(file.read())"
   ]
  },
  {
   "cell_type": "code",
   "execution_count": 21,
   "id": "a03e8519",
   "metadata": {},
   "outputs": [
    {
     "name": "stdout",
     "output_type": "stream",
     "text": [
      "[000034.43] [0/1] 12-25 17:30  Emulator                  INFO     Loading _tests/emulator.npy.\n"
     ]
    }
   ],
   "source": [
    "# The emulator can be used as replace of the original model\n",
    "emulator = EmulatedCalculator.load(fn)\n",
    "assert np.allclose(emulator(a=2., b=1.), model(a=2., b=1.))"
   ]
  },
  {
   "cell_type": "code",
   "execution_count": 22,
   "id": "f589de3f",
   "metadata": {},
   "outputs": [],
   "source": [
    "# Now let us load our emulator into the pipeline\n",
    "# Let's just update the likelihood's theory, no need to redefine it\n",
    "# (Internally the code will reinitialize it)\n",
    "likelihood.update(theory=emulator)  # or if the emulator is in memory, theory=emulator.to_calculator()"
   ]
  },
  {
   "cell_type": "code",
   "execution_count": 23,
   "id": "d884a7c3",
   "metadata": {},
   "outputs": [
    {
     "name": "stdout",
     "output_type": "stream",
     "text": [
      "[000034.49] [0/1] 12-25 17:30  MinuitProfiler            INFO     Varied parameters: ['a', 'b'].\n"
     ]
    },
    {
     "data": {
      "text/plain": [
       "array([<AxesSubplot:ylabel='a'>], dtype=object)"
      ]
     },
     "execution_count": 23,
     "metadata": {},
     "output_type": "execute_result"
    },
    {
     "data": {
      "image/png": "[encoded data removed]",
      "text/plain": [
       "<Figure size 200x300 with 1 Axes>"
      ]
     },
     "metadata": {},
     "output_type": "display_data"
    }
   ],
   "source": [
    "profiler2 = MinuitProfiler(likelihood, seed=42)\n",
    "profiler2.maximize(niterations=5)\n",
    "plotting.plot_aligned_stacked([profiler2.profiles, profiler.profiles], truths=True)  # truths=True will get parameter values\n",
    "# Fits with the emulator and the model are the same, all good!"
   ]
  }
 ],
 "metadata": {
  "kernelspec": {
   "display_name": "cosmodesi",
   "language": "python",
   "name": "cosmodesi"
  },
  "language_info": {
   "codemirror_mode": {
    "name": "ipython",
    "version": 3
   },
   "file_extension": ".py",
   "mimetype": "text/x-python",
   "name": "python",
   "nbconvert_exporter": "python",
   "pygments_lexer": "ipython3",
   "version": "3.9.13"
  }
 },
 "nbformat": 4,
 "nbformat_minor": 5
}
