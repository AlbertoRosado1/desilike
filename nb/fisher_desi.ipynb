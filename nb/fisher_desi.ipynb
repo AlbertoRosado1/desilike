{
 "cells": [
  {
   "cell_type": "markdown",
   "id": "353d2ab8",
   "metadata": {},
   "source": [
    "# DESI Fisher examples\n",
    "\n",
    "In this notebook we will run some DESI forecasts."
   ]
  },
  {
   "cell_type": "code",
   "execution_count": 1,
   "id": "65d27627",
   "metadata": {},
   "outputs": [],
   "source": [
    "import numpy as np\n",
    "\n",
    "zedges = np.linspace(1.1, 1.6, 6)\n",
    "zranges = list(zip(zedges[:-1], zedges[1:]))\n",
    "nbars = [1079.9998, 1036.0009, 970.9995, 876.9994, 553.9985]  # nobj / deg^2 / dz\n",
    "b0 = 0.84  # at z = 0"
   ]
  },
  {
   "cell_type": "code",
   "execution_count": 2,
   "id": "e5395b99",
   "metadata": {},
   "outputs": [],
   "source": [
    "from cosmoprimo.fiducial import DESI\n",
    "from desilike.theories.galaxy_clustering import (BAOPowerSpectrumTemplate, SimpleBAOWigglesTracerPowerSpectrumMultipoles, DampedBAOWigglesTracerPowerSpectrumMultipoles,\n",
    "                                                 StandardPowerSpectrumTemplate, KaiserTracerPowerSpectrumMultipoles)\n",
    "from desilike.observables.galaxy_clustering import TracerPowerSpectrumMultipolesObservable, CutskyFootprint, ObservablesCovarianceMatrix\n",
    "from desilike.likelihoods.galaxy_clustering import ObservablesGaussianLikelihood, SNWeightedPowerSpectrumLikelihood\n",
    "from desilike import Fisher, setup_logging\n",
    "\n",
    "#setup_logging()"
   ]
  },
  {
   "cell_type": "markdown",
   "id": "e2062001",
   "metadata": {},
   "source": [
    "## Let's compare simple isotropic BAO forecasts against some reference"
   ]
  },
  {
   "cell_type": "markdown",
   "id": "41231f05",
   "metadata": {},
   "source": [
    "### SN-weighted version"
   ]
  },
  {
   "cell_type": "code",
   "execution_count": 3,
   "id": "91c742ce",
   "metadata": {},
   "outputs": [
    {
     "name": "stderr",
     "output_type": "stream",
     "text": [
      "WARNING:absl:No GPU/TPU found, falling back to CPU. (Set TF_CPP_MIN_LOG_LEVEL=0 and rerun for more info.)\n",
      "/home/adematti/Bureau/DESI/NERSC/cosmodesi/cosmoprimo/cosmoprimo/eisenstein_hu.py:23: UserWarning: EisensteinHuNoWiggleEngine cannot cope with massive neutrinos\n",
      "  warnings.warn('{} cannot cope with massive neutrinos'.format(self.__class__.__name__))\n"
     ]
    },
    {
     "name": "stdout",
     "output_type": "stream",
     "text": [
      "[1.10343735 1.10607476 1.11106737 1.11911361 1.14002113]\n"
     ]
    }
   ],
   "source": [
    "cosmo = DESI()\n",
    "fo = cosmo.get_fourier()\n",
    "\n",
    "covariances = []\n",
    "for zrange, nbar in list(zip(zranges, nbars)):\n",
    "    z = np.mean(zrange)\n",
    "    r = 0.5\n",
    "    sigmaper = (1 - r) * 12.4 * 0.758 * fo.sigma8_z(z, of='delta_cb') / 0.9\n",
    "    f = fo.sigma8_z(z, of='theta_cb') / fo.sigma8_z(z, of='delta_cb')\n",
    "    b1 = b0 * fo.sigma8_cb/fo.sigma8_z(z, of='delta_cb')  # prescription for linear bias\n",
    "    params = {'b1': b1, 'sigmapar': (1. + f) * sigmaper, 'sigmaper': sigmaper}\n",
    "    # Footprint, to get volume and shot noise; provided nbar is in deg^(-2) dz^(-1)\n",
    "    footprint = CutskyFootprint(area=14000., zrange=zrange, nbar=nbar * np.diff(zrange), cosmo=cosmo)\n",
    "    template = BAOPowerSpectrumTemplate(z=z, fiducial='DESI', apmode='qisoqap')\n",
    "    #theory = DampedBAOWigglesTracerPowerSpectrumMultipoles(template=template)\n",
    "    theory = SimpleBAOWigglesTracerPowerSpectrumMultipoles(template=template)\n",
    "    likelihood = SNWeightedPowerSpectrumLikelihood(theories=theory, data=params, footprints=footprint, klim=(0.01, 0.5))\n",
    "\n",
    "    fisher = Fisher(likelihood)\n",
    "    precision = fisher(**params)\n",
    "    covariances.append(precision.to_covariance(params=['qiso']))\n",
    "\n",
    "# Let's compare against reference: within a few percent, not too bad!\n",
    "refs = [0.7019, 0.7107, 0.7296, 0.7658, 1.0062]\n",
    "print(100. * np.array([cov.std(params='qiso') for cov in covariances]) / np.array(refs)[:len(covariances)])"
   ]
  },
  {
   "cell_type": "markdown",
   "id": "0da1e355",
   "metadata": {},
   "source": [
    "### Comparison against multipole compression"
   ]
  },
  {
   "cell_type": "code",
   "execution_count": 4,
   "id": "99c6a19e",
   "metadata": {},
   "outputs": [
    {
     "name": "stderr",
     "output_type": "stream",
     "text": [
      "/home/adematti/anaconda3/envs/cosmodesi/lib/python3.9/site-packages/numpy/lib/polynomial.py:1329: FutureWarning: In the future extra properties will not be copied across when constructing one poly1d from another\n",
      "  other = poly1d(other)\n"
     ]
    },
    {
     "name": "stdout",
     "output_type": "stream",
     "text": [
      "[1.00088581 1.0008566  1.00080797 1.00073405 1.00043183]\n"
     ]
    }
   ],
   "source": [
    "covariances2 = []\n",
    "for zrange, nbar in list(zip(zranges, nbars)):\n",
    "    z = np.mean(zrange)\n",
    "    r = 0.5\n",
    "    sigmaper = (1 - r) * 12.4 * 0.758 * fo.sigma8_z(z, of='delta_cb') / 0.9\n",
    "    f = fo.sigma8_z(z, of='theta_cb') / fo.sigma8_z(z, of='delta_cb')\n",
    "    params = {'b1': b0 * fo.sigma8_cb/fo.sigma8_z(z, of='delta_cb'), 'sigmapar': (1. + f) * sigmaper, 'sigmaper': sigmaper}\n",
    "    \n",
    "    footprint = CutskyFootprint(area=14000., zrange=zrange, nbar=nbar * np.diff(zrange), cosmo=cosmo)\n",
    "    template = BAOPowerSpectrumTemplate(z=z, fiducial='DESI', apmode='qisoqap')\n",
    "    #theory = DampedBAOWigglesTracerPowerSpectrumMultipoles(template=template)\n",
    "    theory = SimpleBAOWigglesTracerPowerSpectrumMultipoles(template=template)\n",
    "    observable = TracerPowerSpectrumMultipolesObservable(data=params,  # data can be a dictionary of parameters\n",
    "                                                         # fit monopole and quadrupole, between 0.02 and 0.5 h/Mpc, with 0.005 h/Mpc steps\n",
    "                                                         klim={0: [0.01, 0.5, 0.005], 2: [0.01, 0.5, 0.005], 4: [0.01, 0.5, 0.005]},\n",
    "                                                         theory=theory)\n",
    "    covariance = ObservablesCovarianceMatrix(observable, footprints=footprint, resolution=5)  # Gaussian covariance matrix\n",
    "    likelihood = ObservablesGaussianLikelihood(observables=observable, covariance=covariance(**params))\n",
    "    fisher = Fisher(likelihood)\n",
    "    precision = fisher(**params)\n",
    "    covariances2.append(precision.to_covariance(params=['qiso']))\n",
    "\n",
    "# multipole compression is very close to optimal...\n",
    "print(np.array([cov.std(params='qiso') for cov in covariances2]) / np.array([cov.std(params='qiso') for cov in covariances]))"
   ]
  },
  {
   "cell_type": "markdown",
   "id": "bd16c909",
   "metadata": {},
   "source": [
    "## BAO + full shape forecasts"
   ]
  },
  {
   "cell_type": "code",
   "execution_count": 5,
   "id": "9165ef6d",
   "metadata": {},
   "outputs": [],
   "source": [
    "cosmo = DESI()\n",
    "fo = cosmo.get_fourier()\n",
    "\n",
    "covariances_bao, covariances_bao_highk, covariances_fs_lowk, covariances_bao_fs = [], [], [], []\n",
    "for zrange, nbar in list(zip(zranges, nbars)):\n",
    "    z = np.mean(zrange)\n",
    "    r = 0.5\n",
    "    sigmaper = (1 - r) * 12.4 * 0.758 * fo.sigma8_z(z, of='delta_cb') / 0.9\n",
    "    f = fo.sigma8_z(z, of='theta_cb') / fo.sigma8_z(z, of='delta_cb')\n",
    "    b1 = b0 * fo.sigma8_cb/fo.sigma8_z(z, of='delta_cb')\n",
    "    params = {'b1': b1, 'sigmapar': (1. + f) * sigmaper, 'sigmaper': sigmaper}\n",
    "    footprint = CutskyFootprint(area=14000., zrange=zrange, nbar=nbar * np.diff(zrange), cosmo=cosmo)\n",
    "    template = BAOPowerSpectrumTemplate(z=z, fiducial='DESI', apmode='qparqper')\n",
    "    #theory = DampedBAOWigglesTracerPowerSpectrumMultipoles(template=template)\n",
    "    theory = SimpleBAOWigglesTracerPowerSpectrumMultipoles(template=template)\n",
    "    #for param in theory.params.select(basename='al*'): param.update(fixed=True)\n",
    "    likelihood = SNWeightedPowerSpectrumLikelihood(theories=theory, data=params, footprints=footprint, klim=(0.01, 0.5))\n",
    "    fisher = Fisher(likelihood)\n",
    "    precision_bao = fisher(**params)\n",
    "    covariances_bao.append(precision_bao.to_covariance(params=['qpar', 'qper']))\n",
    "    \n",
    "    likelihood.init.update(klim=(0.1, 0.5))\n",
    "    fisher = Fisher(likelihood)\n",
    "    precision_bao = fisher(**params)\n",
    "    covariances_bao_highk.append(precision_bao.to_covariance(params=['qpar', 'qper']))\n",
    "    \n",
    "    #likelihood.init.update(klim=(0.01, 0.1))\n",
    "    template = StandardPowerSpectrumTemplate(z=z, fiducial='DESI', apmode='qparqper')\n",
    "    theory = KaiserTracerPowerSpectrumMultipoles(template=template)\n",
    "    likelihood = SNWeightedPowerSpectrumLikelihood(theories=theory, data=params, footprints=footprint, klim=(0.01, 0.1))\n",
    "    fisher = Fisher(likelihood)\n",
    "    precision_fs = fisher(**params)\n",
    "    covariances_fs_lowk.append(precision_fs.to_covariance(params=['qpar', 'qper']))\n",
    "    covariances_bao_fs.append((precision_bao + precision_fs).to_covariance(params=['qpar', 'qper', 'df']))"
   ]
  },
  {
   "cell_type": "code",
   "execution_count": 6,
   "id": "269a180e",
   "metadata": {},
   "outputs": [
    {
     "name": "stdout",
     "output_type": "stream",
     "text": [
      "1.2141675491388788 1.0781526488398963\n",
      "1.2107668080867209 1.0779197244569392\n",
      "1.209180296112483 1.0783278036214496\n",
      "1.2106833015011362 1.0801448990855753\n",
      "1.2433366170531988 1.0999373465624611\n"
     ]
    }
   ],
   "source": [
    "# 5% - 20% improvement using the full shape < 0.1 h/Mpc\n",
    "for cov_bao, cov_bao_fs in zip(covariances_bao, covariances_bao_fs):\n",
    "    print(cov_bao.std('qpar') / cov_bao_fs.std('qpar'), cov_bao.std('qper') / cov_bao_fs.std('qper'))"
   ]
  }
 ],
 "metadata": {
  "kernelspec": {
   "display_name": "cosmodesi",
   "language": "python",
   "name": "cosmodesi"
  },
  "language_info": {
   "codemirror_mode": {
    "name": "ipython",
    "version": 3
   },
   "file_extension": ".py",
   "mimetype": "text/x-python",
   "name": "python",
   "nbconvert_exporter": "python",
   "pygments_lexer": "ipython3",
   "version": "3.9.13"
  }
 },
 "nbformat": 4,
 "nbformat_minor": 5
}
