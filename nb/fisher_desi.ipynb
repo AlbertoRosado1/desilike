{
 "cells": [
  {
   "cell_type": "markdown",
   "id": "353d2ab8",
   "metadata": {},
   "source": [
    "# DESI Fisher examples\n",
    "\n",
    "In this notebook we will run some DESI forecasts."
   ]
  },
  {
   "cell_type": "code",
   "execution_count": 1,
   "id": "65d27627",
   "metadata": {},
   "outputs": [],
   "source": [
    "import numpy as np\n",
    "\n",
    "zedges = np.linspace(1.1, 1.6, 6)\n",
    "zranges = list(zip(zedges[:-1], zedges[1:]))\n",
    "nbars = [1079.9998, 1036.0009, 970.9995, 876.9994, 553.9985]  # nobj / deg^2 / dz\n",
    "b0 = 0.84  # at z = 0"
   ]
  },
  {
   "cell_type": "code",
   "execution_count": 2,
   "id": "a3858783",
   "metadata": {},
   "outputs": [
    {
     "name": "stderr",
     "output_type": "stream",
     "text": [
      "WARNING:absl:No GPU/TPU found, falling back to CPU. (Set TF_CPP_MIN_LOG_LEVEL=0 and rerun for more info.)\n",
      "/home/adematti/anaconda3/envs/cosmodesi/lib/python3.9/site-packages/cosmoprimo-1.0.0-py3.9.egg/cosmoprimo/eisenstein_hu.py:23: UserWarning: EisensteinHuNoWiggleEngine cannot cope with massive neutrinos\n",
      "  warnings.warn('{} cannot cope with massive neutrinos'.format(self.__class__.__name__))\n"
     ]
    }
   ],
   "source": [
    "from cosmoprimo.fiducial import DESI\n",
    "from desilike.theories.galaxy_clustering import BAOPowerSpectrumTemplate, SimpleBAOWigglesTracerPowerSpectrumMultipoles, DampedBAOWigglesTracerPowerSpectrumMultipoles\n",
    "from desilike.observables.galaxy_clustering import TracerPowerSpectrumMultipolesObservable, CutskyFootprint, ObservablesCovarianceMatrix\n",
    "from desilike.likelihoods.galaxy_clustering import ObservablesGaussianLikelihood, SNWeightedPowerSpectrumLikelihood\n",
    "from desilike import Fisher, setup_logging\n",
    "\n",
    "#setup_logging()\n",
    "cosmo = DESI()\n",
    "fo = cosmo.get_fourier()\n",
    "\n",
    "covariances = []\n",
    "for zrange, nbar in list(zip(zranges, nbars)):\n",
    "    z = np.mean(zrange)\n",
    "    r = 0.5\n",
    "    sigmaper = (1 - r) * 12.4 * 0.758 * fo.sigma8_z(z, of='delta_cb') / 0.9\n",
    "    f = fo.sigma8_z(z, of='theta_cb') / fo.sigma8_z(z, of='delta_cb')\n",
    "    params = {'b1': b0 * fo.sigma8_cb/fo.sigma8_z(z, of='delta_cb'), 'sigmapar': (1. + f) * sigmaper, 'sigmaper': sigmaper}\n",
    "    footprint = CutskyFootprint(area=14000., zrange=zrange, nbar=nbar * np.diff(zrange), cosmo=cosmo)\n",
    "    template = BAOPowerSpectrumTemplate(z=z, fiducial='DESI', apmode='qisoqap')\n",
    "    #theory = DampedBAOWigglesTracerPowerSpectrumMultipoles(template=template)\n",
    "    theory = SimpleBAOWigglesTracerPowerSpectrumMultipoles(template=template)\n",
    "    likelihood = SNWeightedPowerSpectrumLikelihood(theories=theory, data=params, footprints=footprint, klim=(0.01, 0.5))\n",
    "\n",
    "    fisher = Fisher(likelihood)\n",
    "    precision = fisher(**params)\n",
    "    #covariance = precision.select(params=['qiso']).to_covariance()\n",
    "    covariance = precision.to_covariance(params=['qiso'])\n",
    "    #print(covariance.to_stats(tablefmt='pretty'))\n",
    "    covariances.append(covariance)"
   ]
  },
  {
   "cell_type": "code",
   "execution_count": 3,
   "id": "9adcf6cc",
   "metadata": {},
   "outputs": [
    {
     "name": "stdout",
     "output_type": "stream",
     "text": [
      "[1.03700001 1.04829564 1.06127027 1.07709428 1.11326464]\n"
     ]
    }
   ],
   "source": [
    "# Let's compare against reference\n",
    "refs = [0.7019, 0.7107, 0.7296, 0.7658, 1.0062]\n",
    "print(100. * np.array([cov.std(params='qiso') for cov in covariances]) / np.array(refs)[:len(covariances)])"
   ]
  },
  {
   "cell_type": "code",
   "execution_count": 4,
   "id": "e5a979ca",
   "metadata": {},
   "outputs": [
    {
     "name": "stderr",
     "output_type": "stream",
     "text": [
      "/home/adematti/anaconda3/envs/cosmodesi/lib/python3.9/site-packages/numpy/lib/polynomial.py:1329: FutureWarning: In the future extra properties will not be copied across when constructing one poly1d from another\n",
      "  other = poly1d(other)\n"
     ]
    }
   ],
   "source": [
    "# Let's compare with multipole compression\n",
    "covariances2 = []\n",
    "for zrange, nbar in list(zip(zranges, nbars)):\n",
    "    z = np.mean(zrange)\n",
    "    r = 0.5\n",
    "    sigmaper = (1 - r) * 12.4 * 0.758 * fo.sigma8_z(z, of='delta_cb') / 0.9\n",
    "    f = fo.sigma8_z(z, of='theta_cb') / fo.sigma8_z(z, of='delta_cb')\n",
    "    params = {'b1': b0 * fo.sigma8_cb/fo.sigma8_z(z, of='delta_cb'), 'sigmapar': (1. + f) * sigmaper, 'sigmaper': sigmaper}\n",
    "    footprint = CutskyFootprint(area=14000., zrange=zrange, nbar=nbar * np.diff(zrange), cosmo=cosmo)\n",
    "    template = BAOPowerSpectrumTemplate(z=z, fiducial='DESI', apmode='qisoqap')\n",
    "    #theory = DampedBAOWigglesTracerPowerSpectrumMultipoles(template=template)\n",
    "    theory = SimpleBAOWigglesTracerPowerSpectrumMultipoles(template=template)\n",
    "    observable = TracerPowerSpectrumMultipolesObservable(data=params,  # data can be a dictionary of parameters\n",
    "                                                     klim={0: [0.01, 0.5], 2: [0.01, 0.5], 4: [0.01, 0.5]}, # fit monopole and quadrupole, between 0.02 and 0.2 h/Mpc\n",
    "                                                     kstep=0.005, theory=theory)\n",
    "    covariance = ObservablesCovarianceMatrix(observable, footprints=footprint, resolution=5)\n",
    "    likelihood = ObservablesGaussianLikelihood(observables=observable, covariance=covariance(**params))\n",
    "    fisher = Fisher(likelihood)\n",
    "    precision = fisher(**params)\n",
    "    #covariance = precision.select(params=['qiso']).to_covariance()\n",
    "    covariance = precision.to_covariance(params=['qiso'])\n",
    "    covariances2.append(covariance)"
   ]
  },
  {
   "cell_type": "code",
   "execution_count": 5,
   "id": "2b774c9e",
   "metadata": {},
   "outputs": [
    {
     "name": "stdout",
     "output_type": "stream",
     "text": [
      "[1.00082489 1.00074818 1.00066009 1.00055065 1.00015226]\n"
     ]
    }
   ],
   "source": [
    "print(np.array([cov.std(params='qiso') for cov in covariances2]) / np.array([cov.std(params='qiso') for cov in covariances]))"
   ]
  }
 ],
 "metadata": {
  "kernelspec": {
   "display_name": "cosmodesi",
   "language": "python",
   "name": "cosmodesi"
  },
  "language_info": {
   "codemirror_mode": {
    "name": "ipython",
    "version": 3
   },
   "file_extension": ".py",
   "mimetype": "text/x-python",
   "name": "python",
   "nbconvert_exporter": "python",
   "pygments_lexer": "ipython3",
   "version": "3.9.13"
  }
 },
 "nbformat": 4,
 "nbformat_minor": 5
}
