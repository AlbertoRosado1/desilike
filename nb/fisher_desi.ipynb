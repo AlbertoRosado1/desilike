{
 "cells": [
  {
   "cell_type": "markdown",
   "id": "353d2ab8",
   "metadata": {},
   "source": [
    "# DESI Fisher examples\n",
    "\n",
    "In this notebook we will run some DESI forecasts."
   ]
  },
  {
   "cell_type": "code",
   "execution_count": 1,
   "id": "65d27627",
   "metadata": {},
   "outputs": [],
   "source": [
    "import numpy as np\n",
    "\n",
    "zedges = np.linspace(1.1, 1.6, 6)\n",
    "zranges = list(zip(zedges[:-1], zedges[1:]))\n",
    "nbars = [1079.9998, 1036.0009, 970.9995, 876.9994, 553.9985]  # nobj / deg^2 / dz\n",
    "b0 = 0.84  # at z = 0"
   ]
  },
  {
   "cell_type": "code",
   "execution_count": 2,
   "id": "e5395b99",
   "metadata": {},
   "outputs": [],
   "source": [
    "from cosmoprimo.fiducial import DESI\n",
    "from desilike.theories.galaxy_clustering import (BAOPowerSpectrumTemplate, SimpleBAOWigglesTracerPowerSpectrumMultipoles, DampedBAOWigglesTracerPowerSpectrumMultipoles,\n",
    "                                                 StandardPowerSpectrumTemplate, KaiserTracerPowerSpectrumMultipoles)\n",
    "from desilike.observables.galaxy_clustering import TracerPowerSpectrumMultipolesObservable, CutskyFootprint, ObservablesCovarianceMatrix\n",
    "from desilike.likelihoods.galaxy_clustering import ObservablesGaussianLikelihood, SNWeightedPowerSpectrumLikelihood\n",
    "from desilike import Fisher, setup_logging\n",
    "\n",
    "setup_logging()"
   ]
  },
  {
   "cell_type": "markdown",
   "id": "e2062001",
   "metadata": {},
   "source": [
    "## Let's compare simple isotropic BAO forecasts against some reference"
   ]
  },
  {
   "cell_type": "markdown",
   "id": "41231f05",
   "metadata": {},
   "source": [
    "### SN-weighted version"
   ]
  },
  {
   "cell_type": "code",
   "execution_count": 3,
   "id": "91c742ce",
   "metadata": {},
   "outputs": [
    {
     "name": "stdout",
     "output_type": "stream",
     "text": [
      "[000000.64] [0/1] 02-01 23:45  absl                      INFO     Unable to initialize backend 'tpu_driver': NOT_FOUND: Unable to find driver in registry given worker: \n",
      "[000000.64] [0/1] 02-01 23:45  absl                      INFO     Unable to initialize backend 'cuda': module 'jaxlib.xla_extension' has no attribute 'GpuAllocatorConfig'\n",
      "[000000.65] [0/1] 02-01 23:45  absl                      INFO     Unable to initialize backend 'rocm': module 'jaxlib.xla_extension' has no attribute 'GpuAllocatorConfig'\n",
      "[000000.65] [0/1] 02-01 23:45  absl                      INFO     Unable to initialize backend 'tpu': INVALID_ARGUMENT: TpuPlatform is not available.\n",
      "[000000.65] [0/1] 02-01 23:45  absl                      WARNING  No GPU/TPU found, falling back to CPU. (Set TF_CPP_MIN_LOG_LEVEL=0 and rerun for more info.)\n"
     ]
    },
    {
     "name": "stderr",
     "output_type": "stream",
     "text": [
      "/home/adematti/Bureau/DESI/NERSC/cosmodesi/cosmoprimo/cosmoprimo/eisenstein_hu.py:23: UserWarning: EisensteinHuNoWiggleEngine cannot cope with massive neutrinos\n",
      "  warnings.warn('{} cannot cope with massive neutrinos'.format(self.__class__.__name__))\n"
     ]
    },
    {
     "name": "stdout",
     "output_type": "stream",
     "text": [
      "[000002.01] [0/1] 02-01 23:45  Differentiation           INFO     Varied parameters: ['qiso', 'qap', 'b1', 'al0_-3', 'al0_-2', 'al0_-1', 'al0_0', 'al0_1', 'al2_-3', 'al2_-2', 'al2_-1', 'al2_0', 'al2_1'].\n",
      "[000002.21] [0/1] 02-01 23:45  Differentiation           INFO     Using auto-differentiation for parameter qiso.\n",
      "[000002.25] [0/1] 02-01 23:45  Differentiation           INFO     Using auto-differentiation for parameter qap.\n",
      "[000002.29] [0/1] 02-01 23:45  Differentiation           INFO     Using auto-differentiation for parameter b1.\n",
      "[000002.33] [0/1] 02-01 23:45  Differentiation           INFO     Using auto-differentiation for parameter al0_-3.\n",
      "[000002.37] [0/1] 02-01 23:45  Differentiation           INFO     Using auto-differentiation for parameter al0_-2.\n",
      "[000002.41] [0/1] 02-01 23:45  Differentiation           INFO     Using auto-differentiation for parameter al0_-1.\n",
      "[000002.45] [0/1] 02-01 23:45  Differentiation           INFO     Using auto-differentiation for parameter al0_0.\n",
      "[000002.49] [0/1] 02-01 23:45  Differentiation           INFO     Using auto-differentiation for parameter al0_1.\n",
      "[000002.53] [0/1] 02-01 23:45  Differentiation           INFO     Using auto-differentiation for parameter al2_-3.\n",
      "[000002.57] [0/1] 02-01 23:45  Differentiation           INFO     Using auto-differentiation for parameter al2_-2.\n",
      "[000002.61] [0/1] 02-01 23:45  Differentiation           INFO     Using auto-differentiation for parameter al2_-1.\n",
      "[000002.65] [0/1] 02-01 23:45  Differentiation           INFO     Using auto-differentiation for parameter al2_0.\n",
      "[000002.69] [0/1] 02-01 23:45  Differentiation           INFO     Using auto-differentiation for parameter al2_1.\n",
      "[000002.84] [0/1] 02-01 23:45  Differentiation           INFO     Varied parameters: ['qiso', 'qap', 'b1', 'al0_-3', 'al0_-2', 'al0_-1', 'al0_0', 'al0_1', 'al2_-3', 'al2_-2', 'al2_-1', 'al2_0', 'al2_1'].\n",
      "[000003.38] [0/1] 02-01 23:45  Differentiation           INFO     Using finite-differentiation for parameter qiso.\n",
      "[000003.47] [0/1] 02-01 23:45  Differentiation           INFO     Using finite-differentiation for parameter qap.\n",
      "[000004.46] [0/1] 02-01 23:45  Differentiation           INFO     Using auto-differentiation for parameter b1.\n",
      "[000004.78] [0/1] 02-01 23:45  Differentiation           INFO     Using auto-differentiation for parameter al0_-3.\n",
      "[000004.90] [0/1] 02-01 23:45  Differentiation           INFO     Using auto-differentiation for parameter al0_-2.\n",
      "[000005.03] [0/1] 02-01 23:45  Differentiation           INFO     Using auto-differentiation for parameter al0_-1.\n",
      "[000005.14] [0/1] 02-01 23:45  Differentiation           INFO     Using auto-differentiation for parameter al0_0.\n",
      "[000005.25] [0/1] 02-01 23:45  Differentiation           INFO     Using auto-differentiation for parameter al0_1.\n",
      "[000005.39] [0/1] 02-01 23:45  Differentiation           INFO     Using auto-differentiation for parameter al2_-3.\n",
      "[000005.50] [0/1] 02-01 23:45  Differentiation           INFO     Using auto-differentiation for parameter al2_-2.\n",
      "[000005.64] [0/1] 02-01 23:45  Differentiation           INFO     Using auto-differentiation for parameter al2_-1.\n",
      "[000005.83] [0/1] 02-01 23:45  Differentiation           INFO     Using auto-differentiation for parameter al2_0.\n",
      "[000005.95] [0/1] 02-01 23:45  Differentiation           INFO     Using auto-differentiation for parameter al2_1.\n",
      "[000005.95] [0/1] 02-01 23:45  Differentiation           INFO     qiso grid is [0.99942265 1.         1.00057735].\n",
      "[000005.95] [0/1] 02-01 23:45  Differentiation           INFO     qap grid is [0.99942265 1.         1.00057735].\n",
      "[000009.81] [0/1] 02-01 23:45  Differentiation           INFO     Varied parameters: ['qiso', 'qap', 'b1', 'al0_-3', 'al0_-2', 'al0_-1', 'al0_0', 'al0_1', 'al2_-3', 'al2_-2', 'al2_-1', 'al2_0', 'al2_1'].\n",
      "[000009.86] [0/1] 02-01 23:45  Differentiation           INFO     Using auto-differentiation for parameter qiso.\n",
      "[000009.90] [0/1] 02-01 23:45  Differentiation           INFO     Using auto-differentiation for parameter qap.\n",
      "[000009.94] [0/1] 02-01 23:45  Differentiation           INFO     Using auto-differentiation for parameter b1.\n",
      "[000009.98] [0/1] 02-01 23:45  Differentiation           INFO     Using auto-differentiation for parameter al0_-3.\n",
      "[000010.02] [0/1] 02-01 23:45  Differentiation           INFO     Using auto-differentiation for parameter al0_-2.\n",
      "[000010.06] [0/1] 02-01 23:45  Differentiation           INFO     Using auto-differentiation for parameter al0_-1.\n",
      "[000010.11] [0/1] 02-01 23:45  Differentiation           INFO     Using auto-differentiation for parameter al0_0.\n",
      "[000010.15] [0/1] 02-01 23:45  Differentiation           INFO     Using auto-differentiation for parameter al0_1.\n",
      "[000010.19] [0/1] 02-01 23:45  Differentiation           INFO     Using auto-differentiation for parameter al2_-3.\n",
      "[000010.23] [0/1] 02-01 23:45  Differentiation           INFO     Using auto-differentiation for parameter al2_-2.\n",
      "[000010.27] [0/1] 02-01 23:45  Differentiation           INFO     Using auto-differentiation for parameter al2_-1.\n",
      "[000010.31] [0/1] 02-01 23:45  Differentiation           INFO     Using auto-differentiation for parameter al2_0.\n",
      "[000010.35] [0/1] 02-01 23:45  Differentiation           INFO     Using auto-differentiation for parameter al2_1.\n",
      "[000010.40] [0/1] 02-01 23:45  Differentiation           INFO     Varied parameters: ['qiso', 'qap', 'b1', 'al0_-3', 'al0_-2', 'al0_-1', 'al0_0', 'al0_1', 'al2_-3', 'al2_-2', 'al2_-1', 'al2_0', 'al2_1'].\n",
      "[000010.47] [0/1] 02-01 23:45  Differentiation           INFO     Using finite-differentiation for parameter qiso.\n",
      "[000010.54] [0/1] 02-01 23:45  Differentiation           INFO     Using finite-differentiation for parameter qap.\n",
      "[000010.64] [0/1] 02-01 23:45  Differentiation           INFO     Using auto-differentiation for parameter b1.\n",
      "[000010.75] [0/1] 02-01 23:45  Differentiation           INFO     Using auto-differentiation for parameter al0_-3.\n",
      "[000010.87] [0/1] 02-01 23:45  Differentiation           INFO     Using auto-differentiation for parameter al0_-2.\n",
      "[000010.98] [0/1] 02-01 23:45  Differentiation           INFO     Using auto-differentiation for parameter al0_-1.\n",
      "[000011.09] [0/1] 02-01 23:45  Differentiation           INFO     Using auto-differentiation for parameter al0_0.\n",
      "[000011.20] [0/1] 02-01 23:45  Differentiation           INFO     Using auto-differentiation for parameter al0_1.\n",
      "[000011.30] [0/1] 02-01 23:45  Differentiation           INFO     Using auto-differentiation for parameter al2_-3.\n",
      "[000011.42] [0/1] 02-01 23:45  Differentiation           INFO     Using auto-differentiation for parameter al2_-2.\n",
      "[000011.53] [0/1] 02-01 23:45  Differentiation           INFO     Using auto-differentiation for parameter al2_-1.\n",
      "[000011.64] [0/1] 02-01 23:45  Differentiation           INFO     Using auto-differentiation for parameter al2_0.\n",
      "[000011.75] [0/1] 02-01 23:45  Differentiation           INFO     Using auto-differentiation for parameter al2_1.\n",
      "[000011.75] [0/1] 02-01 23:45  Differentiation           INFO     qiso grid is [0.99942265 1.         1.00057735].\n",
      "[000011.75] [0/1] 02-01 23:45  Differentiation           INFO     qap grid is [0.99942265 1.         1.00057735].\n",
      "[000013.50] [0/1] 02-01 23:45  Differentiation           INFO     Varied parameters: ['qiso', 'qap', 'b1', 'al0_-3', 'al0_-2', 'al0_-1', 'al0_0', 'al0_1', 'al2_-3', 'al2_-2', 'al2_-1', 'al2_0', 'al2_1'].\n",
      "[000013.55] [0/1] 02-01 23:46  Differentiation           INFO     Using auto-differentiation for parameter qiso.\n",
      "[000013.59] [0/1] 02-01 23:46  Differentiation           INFO     Using auto-differentiation for parameter qap.\n",
      "[000013.63] [0/1] 02-01 23:46  Differentiation           INFO     Using auto-differentiation for parameter b1.\n",
      "[000013.67] [0/1] 02-01 23:46  Differentiation           INFO     Using auto-differentiation for parameter al0_-3.\n",
      "[000013.71] [0/1] 02-01 23:46  Differentiation           INFO     Using auto-differentiation for parameter al0_-2.\n",
      "[000013.76] [0/1] 02-01 23:46  Differentiation           INFO     Using auto-differentiation for parameter al0_-1.\n",
      "[000013.80] [0/1] 02-01 23:46  Differentiation           INFO     Using auto-differentiation for parameter al0_0.\n"
     ]
    },
    {
     "name": "stdout",
     "output_type": "stream",
     "text": [
      "[000013.84] [0/1] 02-01 23:46  Differentiation           INFO     Using auto-differentiation for parameter al0_1.\n",
      "[000013.88] [0/1] 02-01 23:46  Differentiation           INFO     Using auto-differentiation for parameter al2_-3.\n",
      "[000013.92] [0/1] 02-01 23:46  Differentiation           INFO     Using auto-differentiation for parameter al2_-2.\n",
      "[000013.96] [0/1] 02-01 23:46  Differentiation           INFO     Using auto-differentiation for parameter al2_-1.\n",
      "[000014.00] [0/1] 02-01 23:46  Differentiation           INFO     Using auto-differentiation for parameter al2_0.\n",
      "[000014.04] [0/1] 02-01 23:46  Differentiation           INFO     Using auto-differentiation for parameter al2_1.\n",
      "[000014.09] [0/1] 02-01 23:46  Differentiation           INFO     Varied parameters: ['qiso', 'qap', 'b1', 'al0_-3', 'al0_-2', 'al0_-1', 'al0_0', 'al0_1', 'al2_-3', 'al2_-2', 'al2_-1', 'al2_0', 'al2_1'].\n",
      "[000014.15] [0/1] 02-01 23:46  Differentiation           INFO     Using finite-differentiation for parameter qiso.\n",
      "[000014.22] [0/1] 02-01 23:46  Differentiation           INFO     Using finite-differentiation for parameter qap.\n",
      "[000014.34] [0/1] 02-01 23:46  Differentiation           INFO     Using auto-differentiation for parameter b1.\n",
      "[000014.45] [0/1] 02-01 23:46  Differentiation           INFO     Using auto-differentiation for parameter al0_-3.\n",
      "[000014.56] [0/1] 02-01 23:46  Differentiation           INFO     Using auto-differentiation for parameter al0_-2.\n",
      "[000014.67] [0/1] 02-01 23:46  Differentiation           INFO     Using auto-differentiation for parameter al0_-1.\n",
      "[000014.78] [0/1] 02-01 23:46  Differentiation           INFO     Using auto-differentiation for parameter al0_0.\n",
      "[000014.89] [0/1] 02-01 23:46  Differentiation           INFO     Using auto-differentiation for parameter al0_1.\n",
      "[000015.02] [0/1] 02-01 23:46  Differentiation           INFO     Using auto-differentiation for parameter al2_-3.\n",
      "[000015.13] [0/1] 02-01 23:46  Differentiation           INFO     Using auto-differentiation for parameter al2_-2.\n",
      "[000015.25] [0/1] 02-01 23:46  Differentiation           INFO     Using auto-differentiation for parameter al2_-1.\n",
      "[000015.36] [0/1] 02-01 23:46  Differentiation           INFO     Using auto-differentiation for parameter al2_0.\n",
      "[000015.46] [0/1] 02-01 23:46  Differentiation           INFO     Using auto-differentiation for parameter al2_1.\n",
      "[000015.47] [0/1] 02-01 23:46  Differentiation           INFO     qiso grid is [0.99942265 1.         1.00057735].\n",
      "[000015.47] [0/1] 02-01 23:46  Differentiation           INFO     qap grid is [0.99942265 1.         1.00057735].\n",
      "[000017.16] [0/1] 02-01 23:46  Differentiation           INFO     Varied parameters: ['qiso', 'qap', 'b1', 'al0_-3', 'al0_-2', 'al0_-1', 'al0_0', 'al0_1', 'al2_-3', 'al2_-2', 'al2_-1', 'al2_0', 'al2_1'].\n",
      "[000017.21] [0/1] 02-01 23:46  Differentiation           INFO     Using auto-differentiation for parameter qiso.\n",
      "[000017.25] [0/1] 02-01 23:46  Differentiation           INFO     Using auto-differentiation for parameter qap.\n",
      "[000017.29] [0/1] 02-01 23:46  Differentiation           INFO     Using auto-differentiation for parameter b1.\n",
      "[000017.33] [0/1] 02-01 23:46  Differentiation           INFO     Using auto-differentiation for parameter al0_-3.\n",
      "[000017.37] [0/1] 02-01 23:46  Differentiation           INFO     Using auto-differentiation for parameter al0_-2.\n",
      "[000017.41] [0/1] 02-01 23:46  Differentiation           INFO     Using auto-differentiation for parameter al0_-1.\n",
      "[000017.45] [0/1] 02-01 23:46  Differentiation           INFO     Using auto-differentiation for parameter al0_0.\n",
      "[000017.49] [0/1] 02-01 23:46  Differentiation           INFO     Using auto-differentiation for parameter al0_1.\n",
      "[000017.53] [0/1] 02-01 23:46  Differentiation           INFO     Using auto-differentiation for parameter al2_-3.\n",
      "[000017.57] [0/1] 02-01 23:46  Differentiation           INFO     Using auto-differentiation for parameter al2_-2.\n",
      "[000017.61] [0/1] 02-01 23:46  Differentiation           INFO     Using auto-differentiation for parameter al2_-1.\n",
      "[000017.65] [0/1] 02-01 23:46  Differentiation           INFO     Using auto-differentiation for parameter al2_0.\n",
      "[000017.69] [0/1] 02-01 23:46  Differentiation           INFO     Using auto-differentiation for parameter al2_1.\n",
      "[000017.74] [0/1] 02-01 23:46  Differentiation           INFO     Varied parameters: ['qiso', 'qap', 'b1', 'al0_-3', 'al0_-2', 'al0_-1', 'al0_0', 'al0_1', 'al2_-3', 'al2_-2', 'al2_-1', 'al2_0', 'al2_1'].\n",
      "[000017.80] [0/1] 02-01 23:46  Differentiation           INFO     Using finite-differentiation for parameter qiso.\n",
      "[000017.87] [0/1] 02-01 23:46  Differentiation           INFO     Using finite-differentiation for parameter qap.\n",
      "[000017.97] [0/1] 02-01 23:46  Differentiation           INFO     Using auto-differentiation for parameter b1.\n",
      "[000018.09] [0/1] 02-01 23:46  Differentiation           INFO     Using auto-differentiation for parameter al0_-3.\n",
      "[000018.23] [0/1] 02-01 23:46  Differentiation           INFO     Using auto-differentiation for parameter al0_-2.\n",
      "[000018.34] [0/1] 02-01 23:46  Differentiation           INFO     Using auto-differentiation for parameter al0_-1.\n",
      "[000018.46] [0/1] 02-01 23:46  Differentiation           INFO     Using auto-differentiation for parameter al0_0.\n",
      "[000018.56] [0/1] 02-01 23:46  Differentiation           INFO     Using auto-differentiation for parameter al0_1.\n",
      "[000018.67] [0/1] 02-01 23:46  Differentiation           INFO     Using auto-differentiation for parameter al2_-3.\n",
      "[000018.78] [0/1] 02-01 23:46  Differentiation           INFO     Using auto-differentiation for parameter al2_-2.\n",
      "[000018.89] [0/1] 02-01 23:46  Differentiation           INFO     Using auto-differentiation for parameter al2_-1.\n",
      "[000018.99] [0/1] 02-01 23:46  Differentiation           INFO     Using auto-differentiation for parameter al2_0.\n",
      "[000019.10] [0/1] 02-01 23:46  Differentiation           INFO     Using auto-differentiation for parameter al2_1.\n",
      "[000019.10] [0/1] 02-01 23:46  Differentiation           INFO     qiso grid is [0.99942265 1.         1.00057735].\n",
      "[000019.10] [0/1] 02-01 23:46  Differentiation           INFO     qap grid is [0.99942265 1.         1.00057735].\n",
      "[000020.80] [0/1] 02-01 23:46  Differentiation           INFO     Varied parameters: ['qiso', 'qap', 'b1', 'al0_-3', 'al0_-2', 'al0_-1', 'al0_0', 'al0_1', 'al2_-3', 'al2_-2', 'al2_-1', 'al2_0', 'al2_1'].\n",
      "[000020.84] [0/1] 02-01 23:46  Differentiation           INFO     Using auto-differentiation for parameter qiso.\n",
      "[000020.88] [0/1] 02-01 23:46  Differentiation           INFO     Using auto-differentiation for parameter qap.\n",
      "[000020.92] [0/1] 02-01 23:46  Differentiation           INFO     Using auto-differentiation for parameter b1.\n",
      "[000020.96] [0/1] 02-01 23:46  Differentiation           INFO     Using auto-differentiation for parameter al0_-3.\n",
      "[000021.00] [0/1] 02-01 23:46  Differentiation           INFO     Using auto-differentiation for parameter al0_-2.\n",
      "[000021.05] [0/1] 02-01 23:46  Differentiation           INFO     Using auto-differentiation for parameter al0_-1.\n",
      "[000021.09] [0/1] 02-01 23:46  Differentiation           INFO     Using auto-differentiation for parameter al0_0.\n",
      "[000021.13] [0/1] 02-01 23:46  Differentiation           INFO     Using auto-differentiation for parameter al0_1.\n",
      "[000021.17] [0/1] 02-01 23:46  Differentiation           INFO     Using auto-differentiation for parameter al2_-3.\n",
      "[000021.21] [0/1] 02-01 23:46  Differentiation           INFO     Using auto-differentiation for parameter al2_-2.\n",
      "[000021.25] [0/1] 02-01 23:46  Differentiation           INFO     Using auto-differentiation for parameter al2_-1.\n",
      "[000021.29] [0/1] 02-01 23:46  Differentiation           INFO     Using auto-differentiation for parameter al2_0.\n",
      "[000021.33] [0/1] 02-01 23:46  Differentiation           INFO     Using auto-differentiation for parameter al2_1.\n",
      "[000021.38] [0/1] 02-01 23:46  Differentiation           INFO     Varied parameters: ['qiso', 'qap', 'b1', 'al0_-3', 'al0_-2', 'al0_-1', 'al0_0', 'al0_1', 'al2_-3', 'al2_-2', 'al2_-1', 'al2_0', 'al2_1'].\n",
      "[000021.45] [0/1] 02-01 23:46  Differentiation           INFO     Using finite-differentiation for parameter qiso.\n"
     ]
    },
    {
     "name": "stdout",
     "output_type": "stream",
     "text": [
      "[000021.51] [0/1] 02-01 23:46  Differentiation           INFO     Using finite-differentiation for parameter qap.\n",
      "[000021.62] [0/1] 02-01 23:46  Differentiation           INFO     Using auto-differentiation for parameter b1.\n",
      "[000021.73] [0/1] 02-01 23:46  Differentiation           INFO     Using auto-differentiation for parameter al0_-3.\n",
      "[000021.84] [0/1] 02-01 23:46  Differentiation           INFO     Using auto-differentiation for parameter al0_-2.\n",
      "[000021.94] [0/1] 02-01 23:46  Differentiation           INFO     Using auto-differentiation for parameter al0_-1.\n",
      "[000022.08] [0/1] 02-01 23:46  Differentiation           INFO     Using auto-differentiation for parameter al0_0.\n",
      "[000022.20] [0/1] 02-01 23:46  Differentiation           INFO     Using auto-differentiation for parameter al0_1.\n",
      "[000022.31] [0/1] 02-01 23:46  Differentiation           INFO     Using auto-differentiation for parameter al2_-3.\n",
      "[000022.42] [0/1] 02-01 23:46  Differentiation           INFO     Using auto-differentiation for parameter al2_-2.\n",
      "[000022.53] [0/1] 02-01 23:46  Differentiation           INFO     Using auto-differentiation for parameter al2_-1.\n",
      "[000022.63] [0/1] 02-01 23:46  Differentiation           INFO     Using auto-differentiation for parameter al2_0.\n",
      "[000022.74] [0/1] 02-01 23:46  Differentiation           INFO     Using auto-differentiation for parameter al2_1.\n",
      "[000022.74] [0/1] 02-01 23:46  Differentiation           INFO     qiso grid is [0.99942265 1.         1.00057735].\n",
      "[000022.74] [0/1] 02-01 23:46  Differentiation           INFO     qap grid is [0.99942265 1.         1.00057735].\n",
      "[1.03563698 1.04693943 1.05992243 1.07575899 1.11200486]\n"
     ]
    }
   ],
   "source": [
    "cosmo = DESI()\n",
    "fo = cosmo.get_fourier()\n",
    "\n",
    "covariances = []\n",
    "for zrange, nbar in list(zip(zranges, nbars)):\n",
    "    z = np.mean(zrange)\n",
    "    r = 0.5\n",
    "    sigmaper = (1 - r) * 12.4 * 0.758 * fo.sigma8_z(z, of='delta_cb') / 0.9\n",
    "    f = fo.sigma8_z(z, of='theta_cb') / fo.sigma8_z(z, of='delta_cb')\n",
    "    b1 = b0 * fo.sigma8_cb/fo.sigma8_z(z, of='delta_cb')  # prescription for linear bias\n",
    "    params = {'b1': b1, 'sigmapar': (1. + f) * sigmaper, 'sigmaper': sigmaper}\n",
    "    # Footprint, to get volume and shot noise; provided nbar is in deg^(-2) dz^(-1)\n",
    "    footprint = CutskyFootprint(area=14000., zrange=zrange, nbar=nbar * np.diff(zrange), cosmo=cosmo)\n",
    "    template = BAOPowerSpectrumTemplate(z=z, fiducial='DESI', apmode='qisoqap')\n",
    "    #theory = DampedBAOWigglesTracerPowerSpectrumMultipoles(template=template)\n",
    "    theory = SimpleBAOWigglesTracerPowerSpectrumMultipoles(template=template)\n",
    "    likelihood = SNWeightedPowerSpectrumLikelihood(theories=theory, data=params, footprints=footprint, klim=(0.01, 0.5))\n",
    "\n",
    "    fisher = Fisher(likelihood)\n",
    "    precision = fisher(**params)\n",
    "    covariances.append(precision.to_covariance(params=['qiso']))\n",
    "\n",
    "# Let's compare against reference: within a few percent, not too bad!\n",
    "refs = [0.7019, 0.7107, 0.7296, 0.7658, 1.0062]\n",
    "print(100. * np.array([cov.std(params='qiso') for cov in covariances]) / np.array(refs)[:len(covariances)])"
   ]
  },
  {
   "cell_type": "markdown",
   "id": "0da1e355",
   "metadata": {},
   "source": [
    "### Comparison against multipole compression"
   ]
  },
  {
   "cell_type": "code",
   "execution_count": null,
   "id": "99c6a19e",
   "metadata": {},
   "outputs": [
    {
     "name": "stderr",
     "output_type": "stream",
     "text": [
      "/home/adematti/anaconda3/envs/cosmodesi/lib/python3.9/site-packages/numpy/lib/polynomial.py:1329: FutureWarning: In the future extra properties will not be copied across when constructing one poly1d from another\n",
      "  other = poly1d(other)\n"
     ]
    }
   ],
   "source": [
    "covariances2 = []\n",
    "for zrange, nbar in list(zip(zranges, nbars)):\n",
    "    z = np.mean(zrange)\n",
    "    r = 0.5\n",
    "    sigmaper = (1 - r) * 12.4 * 0.758 * fo.sigma8_z(z, of='delta_cb') / 0.9\n",
    "    f = fo.sigma8_z(z, of='theta_cb') / fo.sigma8_z(z, of='delta_cb')\n",
    "    params = {'b1': b0 * fo.sigma8_cb/fo.sigma8_z(z, of='delta_cb'), 'sigmapar': (1. + f) * sigmaper, 'sigmaper': sigmaper}\n",
    "    \n",
    "    footprint = CutskyFootprint(area=14000., zrange=zrange, nbar=nbar * np.diff(zrange), cosmo=cosmo)\n",
    "    template = BAOPowerSpectrumTemplate(z=z, fiducial='DESI', apmode='qisoqap')\n",
    "    #theory = DampedBAOWigglesTracerPowerSpectrumMultipoles(template=template)\n",
    "    theory = SimpleBAOWigglesTracerPowerSpectrumMultipoles(template=template)\n",
    "    observable = TracerPowerSpectrumMultipolesObservable(data=params,  # data can be a dictionary of parameters\n",
    "                                                         # fit monopole and quadrupole, between 0.02 and 0.5 h/Mpc, with 0.005 h/Mpc steps\n",
    "                                                         klim={0: [0.01, 0.5, 0.005], 2: [0.01, 0.5, 0.005], 4: [0.01, 0.5, 0.005]},\n",
    "                                                         theory=theory)\n",
    "    covariance = ObservablesCovarianceMatrix(observable, footprints=footprint, resolution=5)  # Gaussian covariance matrix\n",
    "    likelihood = ObservablesGaussianLikelihood(observables=observable, covariance=covariance(**params))\n",
    "    fisher = Fisher(likelihood)\n",
    "    precision = fisher(**params)\n",
    "    covariances2.append(precision.to_covariance(params=['qiso']))\n",
    "\n",
    "# multipole compression is very close to optimal...\n",
    "print(np.array([cov.std(params='qiso') for cov in covariances2]) / np.array([cov.std(params='qiso') for cov in covariances]))"
   ]
  },
  {
   "cell_type": "markdown",
   "id": "bd16c909",
   "metadata": {},
   "source": [
    "## BAO + full shape forecasts"
   ]
  },
  {
   "cell_type": "code",
   "execution_count": null,
   "id": "9165ef6d",
   "metadata": {},
   "outputs": [],
   "source": [
    "cosmo = DESI()\n",
    "fo = cosmo.get_fourier()\n",
    "\n",
    "covariances_bao, covariances_bao_highk, covariances_fs_lowk, covariances_bao_fs = [], [], [], []\n",
    "for zrange, nbar in list(zip(zranges, nbars)):\n",
    "    z = np.mean(zrange)\n",
    "    r = 0.5\n",
    "    sigmaper = (1 - r) * 12.4 * 0.758 * fo.sigma8_z(z, of='delta_cb') / 0.9\n",
    "    f = fo.sigma8_z(z, of='theta_cb') / fo.sigma8_z(z, of='delta_cb')\n",
    "    b1 = b0 * fo.sigma8_cb/fo.sigma8_z(z, of='delta_cb')\n",
    "    params = {'b1': b1, 'sigmapar': (1. + f) * sigmaper, 'sigmaper': sigmaper}\n",
    "    footprint = CutskyFootprint(area=14000., zrange=zrange, nbar=nbar * np.diff(zrange), cosmo=cosmo)\n",
    "    template = BAOPowerSpectrumTemplate(z=z, fiducial='DESI', apmode='qparqper')\n",
    "    #theory = DampedBAOWigglesTracerPowerSpectrumMultipoles(template=template)\n",
    "    theory = SimpleBAOWigglesTracerPowerSpectrumMultipoles(template=template)\n",
    "    #for param in theory.params.select(basename='al*'): param.update(fixed=True)\n",
    "    likelihood = SNWeightedPowerSpectrumLikelihood(theories=theory, data=params, footprints=footprint, klim=(0.01, 0.5))\n",
    "    fisher = Fisher(likelihood)\n",
    "    precision_bao = fisher(**params)\n",
    "    covariances_bao.append(precision_bao.to_covariance(params=['qpar', 'qper']))\n",
    "    \n",
    "    likelihood.init.update(klim=(0.1, 0.5))\n",
    "    fisher = Fisher(likelihood)\n",
    "    precision_bao = fisher(**params)\n",
    "    covariances_bao_highk.append(precision_bao.to_covariance(params=['qpar', 'qper']))\n",
    "    \n",
    "    #likelihood.init.update(klim=(0.01, 0.1))\n",
    "    template = StandardPowerSpectrumTemplate(z=z, fiducial='DESI', apmode='qparqper')\n",
    "    theory = KaiserTracerPowerSpectrumMultipoles(template=template)\n",
    "    likelihood = SNWeightedPowerSpectrumLikelihood(theories=theory, data=params, footprints=footprint, klim=(0.01, 0.1))\n",
    "    fisher = Fisher(likelihood)\n",
    "    precision_fs = fisher(**params)\n",
    "    covariances_fs_lowk.append(precision_fs.to_covariance(params=['qpar', 'qper']))\n",
    "    covariances_bao_fs.append((precision_bao + precision_fs).to_covariance(params=['qpar', 'qper', 'df']))"
   ]
  },
  {
   "cell_type": "code",
   "execution_count": null,
   "id": "269a180e",
   "metadata": {},
   "outputs": [],
   "source": [
    "# 5% - 15% improvement using the full shape < 0.1 h/Mpc\n",
    "for cov_bao, cov_bao_fs in zip(covariances_bao, covariances_bao_fs):\n",
    "    print(cov_bao.std('qpar') / cov_bao_fs.std('qpar'), cov_bao.std('qper') / cov_bao_fs.std('qper'))"
   ]
  }
 ],
 "metadata": {
  "kernelspec": {
   "display_name": "cosmodesi",
   "language": "python",
   "name": "cosmodesi"
  },
  "language_info": {
   "codemirror_mode": {
    "name": "ipython",
    "version": 3
   },
   "file_extension": ".py",
   "mimetype": "text/x-python",
   "name": "python",
   "nbconvert_exporter": "python",
   "pygments_lexer": "ipython3",
   "version": "3.9.13"
  }
 },
 "nbformat": 4,
 "nbformat_minor": 5
}
